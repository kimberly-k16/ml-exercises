{
 "cells": [
  {
   "cell_type": "markdown",
   "metadata": {
    "datalore": {
     "hide_input_from_viewers": false,
     "hide_output_from_viewers": false,
     "node_id": "YYIPW3qMYRdPp6sKUAnp54",
     "report_properties": {
      "rowId": "DVeMnGgs3arpVZj3AbXdbM"
     },
     "type": "MD"
    }
   },
   "source": [
    "# Introduction\n",
    "\n",
    "In this task you will get to know the basic tools used by the machine learning community.\n",
    "Later, we will build a linear regression model with PyTorch and perform training and prediction the linear regression problem from the previous practical. The goal of this tutorial is to understand the PyTorch framework and getting to know to use it. "
   ]
  },
  {
   "cell_type": "markdown",
   "metadata": {
    "datalore": {
     "hide_input_from_viewers": false,
     "hide_output_from_viewers": false,
     "node_id": "83aXhw0s1P27cfTj0v1M0D",
     "report_properties": {
      "rowId": "1r7Iy5aeBzwENYP2CawRa3"
     },
     "type": "MD"
    }
   },
   "source": [
    "## Tutorials\n",
    "\n",
    "Some python libraries are required to accomplish the tasks assigned in this homework. If you feel like you need to follow a tutorial before, feel free to do so:"
   ]
  },
  {
   "cell_type": "markdown",
   "metadata": {
    "datalore": {
     "hide_input_from_viewers": false,
     "hide_output_from_viewers": false,
     "node_id": "XAgRsflizHchCvrQBCFIwW",
     "report_properties": {
      "rowId": "WLIfga4UcyH1PwC3Cfx78J"
     },
     "type": "MD"
    }
   },
   "source": [
    "*   [PyTorch Tutorial](https://pytorch.org/tutorials/)\n",
    "*   [Seaborn Tutorial](https://seaborn.pydata.org/tutorial.html) (data visualization library on top of matplotlib)"
   ]
  },
  {
   "cell_type": "code",
   "execution_count": 61,
   "metadata": {
    "datalore": {
     "hide_input_from_viewers": false,
     "hide_output_from_viewers": false,
     "node_id": "FtuFK9pGsr7miltt6Jx31h",
     "report_properties": {
      "rowId": "vagHbAIZ3Cl0pcCeBerDZ3"
     },
     "type": "CODE"
    }
   },
   "outputs": [],
   "source": [
    "import random\n",
    "import numpy as np\n",
    "import matplotlib as mpl\n",
    "import matplotlib.pyplot as plt\n",
    "import seaborn as sns\n",
    "import pandas as pd\n",
    "import torch\n",
    "import pathlib\n",
    "from torchvision import datasets, transforms\n",
    "from torch.utils.data import DataLoader\n",
    "from torch.utils.data import sampler"
   ]
  },
  {
   "cell_type": "code",
   "execution_count": 62,
   "metadata": {
    "datalore": {
     "hide_input_from_viewers": false,
     "hide_output_from_viewers": false,
     "node_id": "l8Z94fuJvKyRmnUE1LIQ8J",
     "report_properties": {
      "rowId": "eMfsdBa6TCLGmXTsmdjGzW"
     },
     "type": "CODE"
    }
   },
   "outputs": [],
   "source": [
    "torch.set_default_dtype(torch.float64)"
   ]
  },
  {
   "cell_type": "markdown",
   "metadata": {
    "datalore": {
     "hide_input_from_viewers": false,
     "hide_output_from_viewers": false,
     "node_id": "slqxWvMQ2vRe1atCrKNxt5",
     "report_properties": {
      "rowId": "cUipxg6gTb4eEI88Emx2Mc"
     },
     "type": "MD"
    }
   },
   "source": [
    "## System checks\n",
    "\n",
    "Perform some rudimentary system checks. Do we have a CUDA-capable device? Multiple? Is CuDNN active (huge speedups for some networks)?"
   ]
  },
  {
   "cell_type": "code",
   "execution_count": 63,
   "metadata": {
    "datalore": {
     "hide_input_from_viewers": false,
     "hide_output_from_viewers": false,
     "node_id": "Rz06wTE963ISJkGMfVy6fU",
     "report_properties": {
      "rowId": "TKigAFfMgfTtBzM6b9DLJb"
     },
     "type": "CODE"
    }
   },
   "outputs": [
    {
     "data": {
      "text/plain": [
       "(False, False, 0)"
      ]
     },
     "metadata": {},
     "output_type": "display_data"
    }
   ],
   "source": [
    "torch.cuda.is_available(), torch.backends.cudnn.is_available(), torch.cuda.device_count()"
   ]
  },
  {
   "cell_type": "markdown",
   "metadata": {
    "datalore": {
     "hide_input_from_viewers": false,
     "hide_output_from_viewers": false,
     "node_id": "fyEqGQWv8tNHVL24tZUi4w",
     "report_properties": {
      "rowId": "r9IIVGViAzTFMT8NfSMDH8"
     },
     "type": "MD"
    }
   },
   "source": [
    "Now check the availability again (after re-running the imports)"
   ]
  },
  {
   "cell_type": "code",
   "execution_count": 64,
   "metadata": {
    "datalore": {
     "hide_input_from_viewers": false,
     "hide_output_from_viewers": false,
     "node_id": "hUq9Tm9FgRiF6jhkMqnAsU",
     "report_properties": {
      "rowId": "TiRM8oSiFfqD6fNkYN7Uzr"
     },
     "type": "CODE"
    }
   },
   "outputs": [
    {
     "ename": "AssertionError",
     "evalue": "AssertionError: Torch not compiled with CUDA enabled",
     "output_type": "error",
     "traceback": [
      "\u001b[0;31m---------------------------------------------------------------------------",
      "Traceback (most recent call last)",
      "    at line 1 in <module>",
      "    at line 674 in current_device()",
      "    at line 239 in _lazy_init()",
      "AssertionError: Torch not compiled with CUDA enabled"
     ]
    }
   ],
   "source": [
    "torch.cuda.is_available(), torch.backends.cudnn.is_available(), torch.cuda.device_count(), torch.cuda.current_device()"
   ]
  },
  {
   "cell_type": "markdown",
   "metadata": {
    "datalore": {
     "hide_input_from_viewers": false,
     "hide_output_from_viewers": false,
     "node_id": "xMHvcvTUihfpT75TCzEYmy",
     "report_properties": {
      "rowId": "HPJjBpI16H68vr16WUueQX"
     },
     "type": "MD"
    }
   },
   "source": [
    "Choose your device for computation. CPU or one of your CUDA devices?"
   ]
  },
  {
   "cell_type": "code",
   "execution_count": 65,
   "metadata": {
    "datalore": {
     "hide_input_from_viewers": false,
     "hide_output_from_viewers": false,
     "node_id": "BVUbctkURxJiOfjlcH3t4p",
     "report_properties": {
      "rowId": "SFxAjbLWN512FMn9SOcGR5"
     },
     "type": "CODE"
    }
   },
   "outputs": [
    {
     "name": "stdout",
     "output_type": "stream",
     "text": [
      "Using device cpu\n"
     ]
    }
   ],
   "source": [
    "# DO NOT CHANGE\n",
    "# use_cuda = True\n",
    "use_cuda = False\n",
    "use_cuda = False if not use_cuda else torch.cuda.is_available()\n",
    "device = torch.device('cuda:0' if use_cuda else 'cpu')\n",
    "torch.cuda.get_device_name(device) if use_cuda else 'cpu'\n",
    "print('Using device', device)"
   ]
  },
  {
   "cell_type": "markdown",
   "metadata": {
    "datalore": {
     "hide_input_from_viewers": false,
     "hide_output_from_viewers": false,
     "node_id": "pJEwmrnXIQjGXumiR4amkB",
     "report_properties": {
      "rowId": "cN9jt0PXr1ANHnw8NvbozN"
     },
     "type": "MD"
    }
   },
   "source": [
    "# PyTorch: Getting to know Tensors\n",
    "\n",
    "*feel free to skip this before 'Machine Learning with Pytorch' section if you feel confident enough*   \n",
    "PyTorch is a library for machine learning on arbitrary datasets, including irregular input data such as graphs, point clouds and manifolds.\n",
    "\n",
    "In this short tutorial we will explore some of its features to handle data in tensors.\n",
    "If you want, you can look into more [detailed PyTorch tutorials](https://pytorch.org/tutorials/) online."
   ]
  },
  {
   "cell_type": "code",
   "execution_count": 66,
   "metadata": {
    "datalore": {
     "hide_input_from_viewers": false,
     "hide_output_from_viewers": false,
     "node_id": "8vBx1nweW84uksobWLGuu7",
     "report_properties": {
      "rowId": "GuepJnGJA8PkogZqWKgDdM"
     },
     "type": "CODE"
    }
   },
   "outputs": [],
   "source": [
    "# create a numpy array\n",
    "numpyarray = np.arange(10).reshape(2, 5)\n",
    "# convert to pytorch tensor\n",
    "a = torch.from_numpy(numpyarray)"
   ]
  },
  {
   "cell_type": "markdown",
   "metadata": {
    "datalore": {
     "hide_input_from_viewers": false,
     "hide_output_from_viewers": false,
     "node_id": "uabbplvBhQnE6yMHgJEFeN",
     "report_properties": {
      "rowId": "gvYmzFg0Lk0MuSKgkl9uDN"
     },
     "type": "MD"
    }
   },
   "source": [
    "Let us find out what the properties of this tensor 'a' are."
   ]
  },
  {
   "cell_type": "code",
   "execution_count": 67,
   "metadata": {
    "datalore": {
     "hide_input_from_viewers": false,
     "hide_output_from_viewers": false,
     "node_id": "7D7qB4aF17hpDLDARyRys4",
     "report_properties": {
      "rowId": "RE2WIetwhw0Y4aPpxfc8U0"
     },
     "type": "CODE"
    }
   },
   "outputs": [
    {
     "name": "stdout",
     "output_type": "stream",
     "text": [
      "tensor([[0, 1, 2, 3, 4],\n",
      "        [5, 6, 7, 8, 9]])\n"
     ]
    },
    {
     "data": {
      "text/plain": [
       "tensor([[0, 1, 2, 3, 4],\n",
       "        [5, 6, 7, 8, 9]])"
      ]
     },
     "metadata": {},
     "output_type": "display_data"
    }
   ],
   "source": [
    "# TODO print the tensor\n",
    "print(a)\n",
    "a"
   ]
  },
  {
   "cell_type": "code",
   "execution_count": 68,
   "metadata": {
    "datalore": {
     "hide_input_from_viewers": false,
     "hide_output_from_viewers": false,
     "node_id": "fSz8A17dSWN1noq9q4xZEa",
     "report_properties": {
      "rowId": "uJTm5pRQJbHkmziwtmSBfA"
     },
     "type": "CODE"
    }
   },
   "outputs": [
    {
     "name": "stdout",
     "output_type": "stream",
     "text": [
      "<class 'torch.Tensor'>\n"
     ]
    },
    {
     "data": {
      "text/plain": [
       "torch.Tensor"
      ]
     },
     "metadata": {},
     "output_type": "display_data"
    }
   ],
   "source": [
    "# TODO print its type\n",
    "print(type(a))\n",
    "type(a)"
   ]
  },
  {
   "cell_type": "code",
   "execution_count": 69,
   "metadata": {
    "datalore": {
     "hide_input_from_viewers": false,
     "hide_output_from_viewers": false,
     "node_id": "EIyUoeWRVigdHnRDBXyEY9",
     "report_properties": {
      "rowId": "1eQHIdTRA3jMJ6CqTVvdGe"
     },
     "type": "CODE"
    }
   },
   "outputs": [
    {
     "name": "stdout",
     "output_type": "stream",
     "text": [
      "torch.Size([2, 5])\n"
     ]
    }
   ],
   "source": [
    "# TODO print its shape\n",
    "print(a.shape)"
   ]
  },
  {
   "cell_type": "code",
   "execution_count": 70,
   "metadata": {
    "datalore": {
     "hide_input_from_viewers": false,
     "hide_output_from_viewers": false,
     "node_id": "VKRxFpYn5Csue2EbpMgSFn",
     "report_properties": {
      "rowId": "frDt2lmhZ6cnZDFcUaD7vw"
     },
     "type": "CODE"
    }
   },
   "outputs": [
    {
     "name": "stdout",
     "output_type": "stream",
     "text": [
      "10\n"
     ]
    }
   ],
   "source": [
    "# TODO print its size\n",
    "print(a.numel())"
   ]
  },
  {
   "cell_type": "code",
   "execution_count": 71,
   "metadata": {
    "datalore": {
     "hide_input_from_viewers": false,
     "hide_output_from_viewers": false,
     "node_id": "h5vQL1tf76QgEboMnUXrcr",
     "report_properties": {
      "rowId": "4MQhwPqjO17HFFwo5NfZ8m"
     },
     "type": "CODE"
    }
   },
   "outputs": [
    {
     "name": "stdout",
     "output_type": "stream",
     "text": [
      "[[0 1 2 3 4]\n",
      " [5 6 7 8 9]]\n"
     ]
    }
   ],
   "source": [
    "# TODO create a new numpy array out of the tensor and print its size\n",
    "new_np_arr = a.numpy()\n",
    "print(new_np_arr)"
   ]
  },
  {
   "cell_type": "markdown",
   "metadata": {
    "datalore": {
     "hide_input_from_viewers": false,
     "hide_output_from_viewers": false,
     "node_id": "dL7nolanKjdskq4SfmNtGy",
     "report_properties": {
      "rowId": "9Wd0vNJVaOOzl2lI9cEOk8"
     },
     "type": "MD"
    }
   },
   "source": [
    "Let's create some new tensors."
   ]
  },
  {
   "cell_type": "code",
   "execution_count": 72,
   "metadata": {
    "datalore": {
     "hide_input_from_viewers": false,
     "hide_output_from_viewers": false,
     "node_id": "GhVOVDcrl6siLqGGDesLtl",
     "report_properties": {
      "rowId": "ZnWmZSfnYtYQlQI9yUdO6R"
     },
     "type": "CODE"
    }
   },
   "outputs": [
    {
     "name": "stdout",
     "output_type": "stream",
     "text": [
      "tensor([[1, 1, 1, 1, 1],\n",
      "        [1, 1, 1, 1, 1]], dtype=torch.int32)\n"
     ]
    }
   ],
   "source": [
    "# TODO create a tensor of shape (2,5) filled with ones of type int and print it\n",
    "tensor_b = torch.ones((2, 5), dtype=torch.int)\n",
    "print(tensor_b)"
   ]
  },
  {
   "cell_type": "code",
   "execution_count": 73,
   "metadata": {
    "datalore": {
     "hide_input_from_viewers": false,
     "hide_output_from_viewers": false,
     "node_id": "ywV21fpjb6c1Oj66hyrkK0",
     "report_properties": {
      "rowId": "h6zNDOSIdQAeq4vnAWXLsJ"
     },
     "type": "CODE"
    }
   },
   "outputs": [
    {
     "name": "stdout",
     "output_type": "stream",
     "text": [
      "tensor([[0., 0., 0., 0.],\n",
      "        [0., 0., 0., 0.],\n",
      "        [0., 0., 0., 0.]])\n"
     ]
    }
   ],
   "source": [
    "# TODO create a tensor of shape (3,4) filled with zeros and print it\n",
    "tensor_c = torch.zeros((3,4))\n",
    "print(tensor_c)"
   ]
  },
  {
   "cell_type": "code",
   "execution_count": 74,
   "metadata": {
    "datalore": {
     "hide_input_from_viewers": false,
     "hide_output_from_viewers": false,
     "node_id": "DGh1dCZ1cmwprKCwbpZFot",
     "report_properties": {
      "rowId": "VRhbsDl1JhDuzlamOYnbWD"
     },
     "type": "CODE"
    }
   },
   "outputs": [
    {
     "name": "stdout",
     "output_type": "stream",
     "text": [
      "tensor([[0, 1, 2, 3, 4],\n",
      "        [5, 6, 7, 8, 9]])\n",
      "tensor([[0, 5],\n",
      "        [1, 6],\n",
      "        [2, 7],\n",
      "        [3, 8],\n",
      "        [4, 9]])\n"
     ]
    }
   ],
   "source": [
    "# TODO transpose the tensor 'a'\n",
    "# We assumed this to NOT mean to overwrite the original tensor a\n",
    "\n",
    "a_transposed = a.T\n",
    "print(a)\n",
    "print(a_transposed)"
   ]
  },
  {
   "cell_type": "markdown",
   "metadata": {
    "datalore": {
     "hide_input_from_viewers": false,
     "hide_output_from_viewers": false,
     "node_id": "4mcHjRT70iMvx9t5jBTjfx",
     "report_properties": {
      "rowId": "HCB0pEe5AHARtwegvfLfKW"
     },
     "type": "MD"
    }
   },
   "source": [
    "Now change a value in the numpy array. Does the corresponding tensor change?"
   ]
  },
  {
   "cell_type": "code",
   "execution_count": 75,
   "metadata": {
    "datalore": {
     "hide_input_from_viewers": false,
     "hide_output_from_viewers": false,
     "node_id": "qNhknsFnrae1tDvSDMNHsZ",
     "report_properties": {
      "rowId": "ZJpHdMYiGA57DCqMfMIUMf"
     },
     "type": "CODE"
    }
   },
   "outputs": [
    {
     "name": "stdout",
     "output_type": "stream",
     "text": [
      "Original array:  [[0 1 2 3 4]\n",
      " [5 6 7 8 9]]\n",
      "Original tensor:  tensor([[0, 1, 2, 3, 4],\n",
      "        [5, 6, 7, 8, 9]])\n",
      "Changed array:  [[0 1 2 3 4]\n",
      " [5 0 7 8 9]]\n",
      "Potentially changed tensor:  tensor([[0, 1, 2, 3, 4],\n",
      "        [5, 0, 7, 8, 9]])\n",
      "\n",
      "Original tensor:  tensor([[0, 1, 2, 3, 4],\n",
      "        [5, 0, 7, 8, 9]])\n",
      "Original array:  [[0 1 2 3 4]\n",
      " [5 0 7 8 9]]\n",
      "Changed tensor:  tensor([[0, 0, 2, 3, 4],\n",
      "        [5, 0, 7, 8, 9]])\n",
      "Potentially changed array:  [[0 0 2 3 4]\n",
      " [5 0 7 8 9]]\n"
     ]
    }
   ],
   "source": [
    "# TODO change value in numpy array and inspect the tensor a\n",
    "\n",
    "# Preparation\n",
    "numpyarray_cp = numpyarray\n",
    "numpyarray_cp_2 = numpyarray\n",
    "a_cp = a\n",
    "a_cp_2 = a\n",
    "\n",
    "# First question\n",
    "print(\"Original array: \", numpyarray_cp)\n",
    "print(\"Original tensor: \", a_cp)\n",
    "# change the array\n",
    "numpyarray[1][1] = 0\n",
    "print(\"Changed array: \", numpyarray)\n",
    "print(\"Potentially changed tensor: \", a)\n",
    "\n",
    "print()\n",
    "\n",
    "\n",
    "# Second question\n",
    "print(\"Original tensor: \", a_cp_2)\n",
    "print(\"Original array: \", numpyarray_cp_2)\n",
    "# change the tensor\n",
    "a_cp[0][1] = 0\n",
    "print(\"Changed tensor: \", a_cp)\n",
    "print(\"Potentially changed array: \", numpyarray_cp)"
   ]
  },
  {
   "cell_type": "markdown",
   "metadata": {
    "datalore": {
     "hide_input_from_viewers": false,
     "hide_output_from_viewers": false,
     "node_id": "wqGSVq3D6qYwmKUrKGkn6R",
     "report_properties": {
      "rowId": "g9vtbaXdvCbumPAYdcsgtv"
     },
     "type": "MD"
    }
   },
   "source": [
    "**TODO Your answer here** \n",
    "\n",
    "Yes, the corresponding vector changes and adapts the same values as in the array it is created from.\n",
    "\n",
    "\n",
    "///\n",
    "///\n",
    "///\n",
    "\n",
    "\n",
    "\n",
    "\n",
    "\n",
    "Does it work the other way round as well?\n",
    "\n",
    "**TODO Your answer here** \n",
    "\n",
    "Yes, it does."
   ]
  },
  {
   "cell_type": "markdown",
   "metadata": {
    "datalore": {
     "hide_input_from_viewers": false,
     "hide_output_from_viewers": false,
     "node_id": "Ze5wyDtJeIf4pKgubef2Eg",
     "report_properties": {
      "rowId": "VZYEO0xBtSK4l27qhyGLGU"
     },
     "type": "MD"
    }
   },
   "source": [
    "Now we want to make use of the different devices available, namely cpu and gpu."
   ]
  },
  {
   "cell_type": "code",
   "execution_count": 76,
   "metadata": {
    "datalore": {
     "hide_input_from_viewers": false,
     "hide_output_from_viewers": false,
     "node_id": "cizUKpNKVD8r7ninEn8UFR",
     "report_properties": {
      "rowId": "Ql8bs4DotECYpqQUOz9WUB"
     },
     "type": "CODE"
    }
   },
   "outputs": [
    {
     "ename": "AssertionError",
     "evalue": "AssertionError: Torch not compiled with CUDA enabled",
     "output_type": "error",
     "traceback": [
      "\u001b[0;31m---------------------------------------------------------------------------",
      "Traceback (most recent call last)",
      "    at line 5 in <module>",
      "    at line 239 in _lazy_init()",
      "AssertionError: Torch not compiled with CUDA enabled"
     ]
    }
   ],
   "source": [
    "# TODO move 'a' to the gpu\n",
    "\n",
    "# copy from a, which is per definition using cpu, to a tensor on gpu\n",
    "\n",
    "a_gpu = a.cuda()\n",
    "print(a)\n",
    "print(a_gpu) # the \"device='cuda:0'\" indicates device is gpu\n",
    "\n",
    "#change cpu tensor values\n",
    "\n",
    "a[0][2] = 0\n",
    "print(a)\n",
    "print(a_gpu)"
   ]
  },
  {
   "cell_type": "markdown",
   "metadata": {
    "datalore": {
     "hide_input_from_viewers": false,
     "hide_output_from_viewers": false,
     "node_id": "qqoGPjWI5jyGKPnizlCkEi",
     "report_properties": {
      "rowId": "OZGp4Z6iW8Rp4OniqyevVR"
     },
     "type": "MD"
    }
   },
   "source": [
    "If you change a value in the tensor 'a' now, does the corresponding value in the tensor on the GPU change as well?\n",
    "\n",
    "**TODO Your answer here** \n",
    "\n",
    "No, it does not change. This is because GPU and CPU do not share their memory. Thus, to synchronize, we would need to call the cuda() method, or some similiar method, as above."
   ]
  },
  {
   "cell_type": "markdown",
   "metadata": {
    "datalore": {
     "hide_input_from_viewers": false,
     "hide_output_from_viewers": false,
     "node_id": "1PW2aie1lZi2ALVYUdo0FU",
     "report_properties": {
      "rowId": "PBWUVSR6UByZA3ib45QzhZ"
     },
     "type": "MD"
    }
   },
   "source": [
    "# Machine Learning with Pytorch\n",
    "\n",
    "The process of training and evaluating a machine learning model begins with **data loading**.\n",
    "A dataset needs to be chosen on which the model should be trained.\n",
    "This data might need some preprocessing (like resizing or normalizing) of images. As Pytorch does not have in-build preprocessing for data panels we have to define our custom normalization inside a Dataset or Dataloader.\n",
    "Splitting of the data in different sets is necessary. We need a set to train on, a set to validate the training progress and a set to test the model after training.\n",
    "\n",
    "The next step is to **specify the model and its optimizer**, as well as the loss function.\n",
    "An important hyperparameter is the learning rate which influences how big the changes of the parameters should be after calculating the loss.\n",
    "\n",
    "The **model fitting** is split into training and evaluation.\n",
    "In the training process the model does a forward pass which means the data is presented to the model and the model outputs a prediction.\n",
    "The loss compares the prediction with the ground truth.\n",
    "In the backward pass the gradient with regard to the parameter is calculated and the parameter are updated by the gradient step.\n",
    "In the evaluation process the loss is computed on the entire validation set.\n",
    "This is done to see how well the model operates on data for which the params were not optimized before in order to avoid overfitting.\n",
    "The model fitting process is repeated for `N` epochs which is another hyperparameter that needs to be chosen carefully.\n",
    "\n",
    "After the training we evaluate the final model on the test set.\n",
    "\n",
    "We'll go through the individual steps in the course of this notebook using linear regression as an example."
   ]
  },
  {
   "cell_type": "markdown",
   "metadata": {
    "datalore": {
     "hide_input_from_viewers": false,
     "hide_output_from_viewers": false,
     "node_id": "XrR4MDdKCiLQdcYGwH8lUq",
     "report_properties": {
      "rowId": "ymA22xk40ULJzH00dw6x7l"
     },
     "type": "MD"
    }
   },
   "source": [
    "## Data Loading and Preprocessing"
   ]
  },
  {
   "cell_type": "markdown",
   "metadata": {
    "datalore": {
     "hide_input_from_viewers": false,
     "hide_output_from_viewers": false,
     "node_id": "GArafn5OCwBy3LD0j3J225",
     "report_properties": {
      "rowId": "Xa3QGmWqz3ltQzL4fmbLs5"
     },
     "type": "MD"
    }
   },
   "source": [
    "### Training, Validation and Test Sets\n",
    "\n",
    "For the correct fitting of a neural network model we need three dataset components: one for training, one for validation in the training process, and the last one for testing the results of the training on unseen data.\n",
    "\n",
    "Note that you should not use the test set in any part of your training and model selection procedure. It should be only used for showing the final results.  \n",
    "\n",
    "Usually, train and test datasets are already split in the provided kaggle datasets but as we work with a custom dataset, we would have to make train-test split ourselves first."
   ]
  },
  {
   "cell_type": "code",
   "execution_count": 77,
   "metadata": {
    "datalore": {
     "hide_input_from_viewers": false,
     "hide_output_from_viewers": false,
     "node_id": "mXUQjk2thfO3QUOBazqU9P",
     "report_properties": {
      "rowId": "pdU0kSEMrbvOZk63Mf51kr"
     },
     "type": "CODE"
    }
   },
   "outputs": [],
   "source": [
    "from sklearn.model_selection import train_test_split"
   ]
  },
  {
   "cell_type": "code",
   "execution_count": 78,
   "metadata": {
    "datalore": {
     "hide_input_from_viewers": false,
     "hide_output_from_viewers": false,
     "node_id": "dw3vG2y3nyDkGwQRVNtaxH",
     "report_properties": {
      "rowId": "TMNGiVT8MSWHibhvujQDL8"
     },
     "type": "CODE"
    }
   },
   "outputs": [],
   "source": [
    "test_size = 0.2\n",
    "target_clm='critical_temp'"
   ]
  },
  {
   "cell_type": "code",
   "execution_count": 79,
   "metadata": {
    "datalore": {
     "hide_input_from_viewers": false,
     "hide_output_from_viewers": false,
     "node_id": "QY3AEJjN7biXy5gQYFmnEv",
     "report_properties": {
      "rowId": "KJZ0qiYTbhf3kjxHIaYul9"
     },
     "type": "CODE"
    }
   },
   "outputs": [],
   "source": [
    "# TODO: load data - same as in the previous practical and make train_test_split from sklearn\n",
    "data = pd.read_csv('superconduct_train.csv')\n",
    "train, test = train_test_split(data, test_size=test_size)"
   ]
  },
  {
   "cell_type": "markdown",
   "metadata": {
    "datalore": {
     "hide_input_from_viewers": false,
     "hide_output_from_viewers": false,
     "node_id": "B4pkr603VKf51QMlMRMfQL",
     "report_properties": {
      "rowId": "dlov1NmnWBiJPj0gjrXH1W"
     },
     "type": "MD"
    }
   },
   "source": [
    "### Dataset\n",
    "\n",
    "PyTorch has 2 entities to load data. They are **Dataset** and **Dataloader**.\n",
    "**Dataset** is a class, which defines your data and often applies data preprocessing transformations, like normalization. It should have at least 3 functions :\n",
    "* __init__ - as any other init. Usually, you would provide path to dataset here or dataset elements.\n",
    "* __len__ - should return the whole dataset size\n",
    "* __getitem__ - this function returns 1 pair of data and label, also here preprocessing transformations are usually applied\n",
    "\n",
    "\n",
    "\n",
    "For the next exercise, take a look here for an example https://stanford.edu/~shervine/blog/pytorch-how-to-generate-data-parallel"
   ]
  },
  {
   "cell_type": "code",
   "execution_count": 80,
   "metadata": {
    "datalore": {
     "hide_input_from_viewers": false,
     "hide_output_from_viewers": false,
     "node_id": "vLAx8QyPWApMimAVDm5C2K",
     "report_properties": {
      "rowId": "RhOkJST7hng5Wa9X0Z3S5f"
     },
     "type": "CODE"
    }
   },
   "outputs": [],
   "source": [
    "class Dataset(torch.utils.data.Dataset):\n",
    "    def __init__(self, df, target_clm, mean=None, std=None, normalise=True):\n",
    "        '''\n",
    "        TODO: save params to self attributes,\n",
    "        x is data without target column\n",
    "        y is target column\n",
    "        transform df to_numpy\n",
    "        '''\n",
    "        self.x = df.drop(target_clm, axis=1).to_numpy()\n",
    "        self.y = df[[target_clm]].to_numpy()\n",
    "        self.mean = mean\n",
    "        self.std = std\n",
    "        self.normalise = normalise\n",
    "\n",
    "    def __len__(self):\n",
    "        # TODO: return whole dataset length\n",
    "        return len(self.x)#.shape[0]\n",
    "\n",
    "    def __getitem__(self, index):\n",
    "        data = self.x[index]\n",
    "        if self.normalise and self.mean is not None and self.std is not None:\n",
    "            data = (data - self.mean) / self.std\n",
    "        return data, self.y[index]"
   ]
  },
  {
   "cell_type": "code",
   "execution_count": 81,
   "metadata": {
    "datalore": {
     "hide_input_from_viewers": true,
     "hide_output_from_viewers": true,
     "node_id": "mLC6CFuo9U2S2wQKBtei9E",
     "type": "CODE"
    }
   },
   "outputs": [],
   "source": [
    "tmp_dataset = Dataset(train, target_clm, normalise=False)"
   ]
  },
  {
   "cell_type": "code",
   "execution_count": 82,
   "metadata": {
    "datalore": {
     "hide_input_from_viewers": false,
     "hide_output_from_viewers": false,
     "node_id": "3VLr0G0ztxosQTAPfs0Bij",
     "report_properties": {
      "rowId": "6pD14Zqa8mQ0IrUV7wfSWx"
     },
     "type": "CODE"
    }
   },
   "outputs": [],
   "source": [
    "# TODO calculate the mean and standard deviation of the train dataset\n",
    "mean_train = train.drop(target_clm, axis=1).mean(axis=0).values\n",
    "std_train = train.drop(target_clm, axis=1).std(axis=0).values\n",
    "#mean_train = np.mean(train)\n",
    "#std_train = np.std(train)"
   ]
  },
  {
   "cell_type": "code",
   "execution_count": 83,
   "metadata": {
    "datalore": {
     "hide_input_from_viewers": false,
     "hide_output_from_viewers": false,
     "node_id": "dz0ziXJY8MaNfyogqDXjlx",
     "report_properties": {
      "rowId": "os3Q9ATUkWzxL7U8FxwReW"
     },
     "type": "CODE"
    }
   },
   "outputs": [],
   "source": [
    "# TODO define new datasets with mean, std and normalise=True\n",
    "conductor_train = Dataset(train, target_clm, mean=mean_train, std=std_train, \n",
    "                          normalise=True)\n",
    "conductor_test = Dataset(test, target_clm, mean=mean_train, std=std_train, \n",
    "                          normalise=True)"
   ]
  },
  {
   "cell_type": "markdown",
   "metadata": {
    "datalore": {
     "hide_input_from_viewers": false,
     "hide_output_from_viewers": false,
     "node_id": "3hoEpcfafllrRShjCDdHTQ",
     "report_properties": {
      "rowId": "rgezffjgN4MPrADkPUGFro"
     },
     "type": "MD"
    }
   },
   "source": [
    "We need to **split** the train dataset in two sets, one for training and one for validation.\n",
    "While the training set needs to be quite large, the validation set can be relatively small.\n",
    "Take 10 % of the dataset as validation set.\n",
    "Assign samples *randomly* to the training and validation set, using a fixed seed to ensure that train and test splits are same across different model runs.\n",
    "\n",
    "In fact, the good practice is to fix a global random seed not only the generator seed for even better reproducibility with `torch.manual_seed(0)`.\n",
    "Machine learning models often involve random initialization of weights, augmentations, dropout layers, and other stochastic processes. Without fixing the random seed, each run of the model may produce slightly different results, making it challenging to reproduce specific results or debug issues."
   ]
  },
  {
   "cell_type": "code",
   "execution_count": 84,
   "metadata": {
    "datalore": {
     "hide_input_from_viewers": false,
     "hide_output_from_viewers": false,
     "node_id": "T1SwcNBvUnLxnIMeSRZdBC",
     "report_properties": {
      "rowId": "klg6AaA1rv73shbcyOwJlc"
     },
     "type": "CODE"
    }
   },
   "outputs": [
    {
     "data": {
      "text/plain": [
       "<torch._C.Generator at 0x7f6b987af9b0>"
      ]
     },
     "metadata": {},
     "output_type": "display_data"
    }
   ],
   "source": [
    "torch.manual_seed(0)"
   ]
  },
  {
   "cell_type": "code",
   "execution_count": 85,
   "metadata": {
    "datalore": {
     "hide_input_from_viewers": false,
     "hide_output_from_viewers": false,
     "node_id": "abB45dMoJKrAPLGb0Rnnww",
     "report_properties": {
      "rowId": "Cg5fqqqoJ3aAmmvfoziUa5"
     },
     "type": "CODE"
    }
   },
   "outputs": [],
   "source": [
    "# TODO split the train dataset in conductor_train and conductor_val\n",
    "conductor_train, conductor_val = torch.utils.data.random_split(conductor_train, [int(0.9 * len(conductor_train)), int(0.1 * len(conductor_train))], generator=torch.Generator().manual_seed(16))"
   ]
  },
  {
   "cell_type": "code",
   "execution_count": 86,
   "metadata": {
    "datalore": {
     "hide_input_from_viewers": true,
     "hide_output_from_viewers": true,
     "node_id": "hFdAeKQMr8mkzTvGxIo1Fo",
     "type": "CODE"
    }
   },
   "outputs": [
    {
     "data": {
      "text/plain": [
       "<torch.utils.data.dataset.Subset at 0x7f6b91584550>"
      ]
     },
     "metadata": {},
     "output_type": "display_data"
    }
   ],
   "source": [
    "conductor_val"
   ]
  },
  {
   "cell_type": "code",
   "execution_count": 87,
   "metadata": {
    "datalore": {
     "hide_input_from_viewers": false,
     "hide_output_from_viewers": false,
     "node_id": "3AfwkB3MTWqD4xNPBRyIzB",
     "report_properties": {
      "rowId": "qGawggg4Mff94TB9Gp7wrR"
     },
     "type": "CODE"
    }
   },
   "outputs": [],
   "source": [
    "batch_size = 256"
   ]
  },
  {
   "cell_type": "markdown",
   "metadata": {
    "datalore": {
     "hide_input_from_viewers": false,
     "hide_output_from_viewers": false,
     "node_id": "Hz9oeHGbWhjgvndpVGHXSp",
     "report_properties": {
      "rowId": "vMcOk9GMptXV9orqaX1xwt"
     },
     "type": "MD"
    }
   },
   "source": [
    "To load the data for model training, we need to define the **dataloaders**.\n",
    "A dataloader represents a Python iterable over a dataset and draws mini batches with random samples.\n",
    "**Dataloader** calls \\_\\_getitem__ function from the Dataset and forms the batches.\n",
    "\n",
    "\n",
    "Use the batch size as specified above.\n",
    "Make sure we get shuffled samples in batches."
   ]
  },
  {
   "cell_type": "code",
   "execution_count": 88,
   "metadata": {
    "datalore": {
     "hide_input_from_viewers": false,
     "hide_output_from_viewers": false,
     "node_id": "PfBp7dbRH4QW2Wb72PXvew",
     "report_properties": {
      "rowId": "0tekbrOSXhqSzZ9PSXshLV"
     },
     "type": "CODE"
    }
   },
   "outputs": [],
   "source": [
    "# TODO create dataloader for training, validation and test\n",
    "train_dataloader = DataLoader(conductor_train, batch_size=batch_size, shuffle=True)\n",
    "val_dataloader = DataLoader(conductor_val, batch_size=batch_size, shuffle=True)\n",
    "test_dataloader = DataLoader(conductor_test, batch_size=batch_size, shuffle=True)"
   ]
  },
  {
   "cell_type": "markdown",
   "metadata": {
    "datalore": {
     "hide_input_from_viewers": false,
     "hide_output_from_viewers": false,
     "node_id": "KWcuZUmowy33dpV7a0sQYt",
     "report_properties": {
      "rowId": "60f0G6IlGDnSP2O9wJDw5H"
     },
     "type": "MD"
    }
   },
   "source": [
    "Let's get a data point now to see what we're dealing with.\n",
    "\n",
    "For this, you might want to check out how python's iterator protocol works. It's simple and will give you an important insight into python: https://wiki.python.org/moin/Iterator."
   ]
  },
  {
   "cell_type": "code",
   "execution_count": 89,
   "metadata": {
    "datalore": {
     "hide_input_from_viewers": false,
     "hide_output_from_viewers": false,
     "node_id": "LYYKjqq2TWQHJlXG7Nl4YS",
     "report_properties": {
      "rowId": "bkV2uZhKTuTaxXbXnuSNVS"
     },
     "type": "CODE"
    }
   },
   "outputs": [
    {
     "name": "stdout",
     "output_type": "stream",
     "text": [
      "tensor([[-0.7667, -0.4576,  0.4548,  ...,  2.5529, -0.0498,  0.2448],\n",
      "        [ 1.3180,  0.3378, -0.3603,  ..., -0.5068,  0.5470,  0.7421],\n",
      "        [-1.4616, -1.2790, -0.7017,  ..., -1.0131, -0.7033, -0.3835],\n",
      "        ...,\n",
      "        [-2.1565, -0.4987, -0.0086,  ..., -1.5284, -1.7357, -1.4818],\n",
      "        [-0.7667, -0.7828,  0.1727,  ...,  2.1304, -0.0498,  0.2857],\n",
      "        [ 0.6231,  0.5100, -0.4602,  ..., -0.5674, -0.0839, -0.2422]])\n"
     ]
    }
   ],
   "source": [
    "# TODO get an element of the train_dataloader\n",
    "\n",
    "element = next(iter(train_dataloader))\n",
    "print(element[0])"
   ]
  },
  {
   "cell_type": "code",
   "execution_count": 90,
   "metadata": {
    "datalore": {
     "hide_input_from_viewers": false,
     "hide_output_from_viewers": false,
     "node_id": "6Q1l90Djb9NpFrFHVZFSbG",
     "report_properties": {
      "rowId": "poid4233AdbfqmpSkrGcJY"
     },
     "type": "CODE"
    }
   },
   "outputs": [
    {
     "name": "stdout",
     "output_type": "stream",
     "text": [
      "batch_data shape:  torch.Size([256, 81])\n",
      "batch_target shape:  torch.Size([256, 1])\n"
     ]
    }
   ],
   "source": [
    "# TODO print the dimensions of for elements from the previous step\n",
    "# We assumed this TODO to correctly be 'print the dimnesions of all elements from the previous step'\n",
    "\n",
    "print(\"batch_data shape: \", element[0].shape)\n",
    "print(\"batch_target shape: \", element[1].shape)"
   ]
  },
  {
   "cell_type": "markdown",
   "metadata": {
    "datalore": {
     "hide_input_from_viewers": false,
     "hide_output_from_viewers": false,
     "node_id": "f9hWdQ8BYC1ojxdEFlFIjK",
     "report_properties": {
      "rowId": "bE5oawSeEQGw4YMYaHDVlL"
     },
     "type": "MD"
    }
   },
   "source": [
    "x has size (\\[batchsize\\], 81) --> 256 elements/batches (or whatever you have defined in your data loader), 81 feature values.\n",
    "\n",
    "y has size (\\[batchsize\\], 1) --> 256 elements/batches (again depends on your data loader config). There's one target value for each set of the features."
   ]
  },
  {
   "cell_type": "markdown",
   "metadata": {
    "datalore": {
     "hide_input_from_viewers": false,
     "hide_output_from_viewers": false,
     "node_id": "ZG1tq2lM4CuY3hdQX9KIzk",
     "report_properties": {
      "rowId": "EhWJaBkBirvOjDnUml1CkF"
     },
     "type": "MD"
    }
   },
   "source": [
    "## Specify Model & Optimizer"
   ]
  },
  {
   "cell_type": "markdown",
   "metadata": {
    "datalore": {
     "hide_input_from_viewers": false,
     "hide_output_from_viewers": false,
     "node_id": "pKijdWq1Q8rASHHY8cY1DC",
     "report_properties": {
      "rowId": "m7QjTpP5yBAVvnO6kfGtwB"
     },
     "type": "MD"
    }
   },
   "source": [
    "### Specify a Model\n",
    "\n",
    "The task is now to define a model to train on the data. In this simple example, we only need **one fully-connected layer** as defined in *torch.nn.Linear* that produces a predicted label for a specific training input row.\n",
    "\n",
    "Before, we set some variables:\n",
    "- the input and output size of the linear layer\n",
    "- how long we want to train the model (number of epochs) and\n",
    "- the learning rate."
   ]
  },
  {
   "cell_type": "code",
   "execution_count": 91,
   "metadata": {
    "datalore": {
     "hide_input_from_viewers": false,
     "hide_output_from_viewers": false,
     "node_id": "7lMXCMXfkCXqquCa0B1286",
     "report_properties": {
      "rowId": "Zh5honcLlL1KBNtCM0qrv6"
     },
     "type": "CODE"
    }
   },
   "outputs": [],
   "source": [
    "epochs = 15\n",
    "input_dim = 81\n",
    "output_dim = 1\n",
    "lr = 0.001"
   ]
  },
  {
   "cell_type": "code",
   "execution_count": 92,
   "metadata": {
    "datalore": {
     "hide_input_from_viewers": false,
     "hide_output_from_viewers": false,
     "node_id": "xdITXW4RSccO5UltWx3Rjk",
     "report_properties": {
      "rowId": "zdZJ86IQi44w83Hx3Jg9sT"
     },
     "type": "CODE"
    }
   },
   "outputs": [],
   "source": [
    "class LinearRegression(torch.nn.Module):\n",
    "    \"\"\"\n",
    "    Linear regression model inherits the torch.nn.Module\n",
    "    which is the base class for all neural network modules.\n",
    "    \"\"\"\n",
    "    def __init__(self, input_dim, output_dim):\n",
    "        \"\"\" Initializes internal Module state. \"\"\"\n",
    "        super(LinearRegression, self).__init__()\n",
    "        # TODO define linear layer for the model\n",
    "        self.linear = torch.nn.Linear(input_dim, output_dim)\n",
    "\n",
    "\n",
    "\n",
    "\n",
    "    def forward(self, x):\n",
    "        \"\"\" Defines the computation performed at every call. \"\"\"\n",
    "        # What are the dimensions of your input layer?\n",
    "        # TODO flatten the input to a suitable size for the initial layer\n",
    "        x = x.view(-1, input_dim)\n",
    "        if torch.isnan(x).any() or torch.isinf(x).any():\n",
    "            raise ValueError(\"Input data contains NaN or inf values.\")\n",
    "        # TODO run the data through the layer\n",
    "        outputs = self.linear(x)\n",
    "        if torch.isnan(outputs).any() or torch.isinf(outputs).any():\n",
    "            raise ValueError(\"Model output contains NaN or inf values.\")\n",
    "        #print(outputs.shape)\n",
    "        return outputs"
   ]
  },
  {
   "cell_type": "markdown",
   "metadata": {
    "datalore": {
     "hide_input_from_viewers": false,
     "hide_output_from_viewers": false,
     "node_id": "HrIoCwCL57J7qonq7G7Xre",
     "report_properties": {
      "rowId": "FVwx9a7Yx8meWo3hoOpLy1"
     },
     "type": "MD"
    }
   },
   "source": [
    "### Instantiate the Model\n",
    "\n",
    "Let us instantiate the model and take a look at the inside. It is always a good idea to verify that the actual architecture is what you intended it to be. Especially, when you start to create layers dynamically it is great for inspection/verification/debugging."
   ]
  },
  {
   "cell_type": "code",
   "execution_count": 93,
   "metadata": {
    "datalore": {
     "hide_input_from_viewers": false,
     "hide_output_from_viewers": false,
     "node_id": "9Hfn9IA1XH6EqkXVwwOPNw",
     "report_properties": {
      "rowId": "rqeJSkJKqTXqnB6sQve6WV"
     },
     "type": "CODE"
    }
   },
   "outputs": [],
   "source": [
    "# TODO instantiate the model\n",
    "model = LinearRegression(input_dim, output_dim)"
   ]
  },
  {
   "cell_type": "markdown",
   "metadata": {
    "datalore": {
     "hide_input_from_viewers": false,
     "hide_output_from_viewers": false,
     "node_id": "r4z9exeVxGT2p6KEnvTPcJ",
     "report_properties": {
      "rowId": "lkAHn32usQcPQBmUgAHMBb"
     },
     "type": "MD"
    }
   },
   "source": [
    "Feed the model to the GPU if available."
   ]
  },
  {
   "cell_type": "code",
   "execution_count": 94,
   "metadata": {
    "datalore": {
     "hide_input_from_viewers": false,
     "hide_output_from_viewers": false,
     "node_id": "jIC7RzdDD4vTK9ZU2GneYE",
     "report_properties": {
      "rowId": "hUsJTqOytVIhXdxaHAVehH"
     },
     "type": "CODE"
    }
   },
   "outputs": [],
   "source": [
    "# TODO move model to device you specified above\n",
    "model = model.to(device)"
   ]
  },
  {
   "cell_type": "markdown",
   "metadata": {
    "datalore": {
     "hide_input_from_viewers": false,
     "hide_output_from_viewers": false,
     "node_id": "DQKnJ2WFEDa6rhXLSnbyz6",
     "report_properties": {
      "rowId": "3g0HCyuxjLM1lIZ3nlojIV"
     },
     "type": "MD"
    }
   },
   "source": [
    "Put the model in training mode."
   ]
  },
  {
   "cell_type": "code",
   "execution_count": 95,
   "metadata": {
    "datalore": {
     "hide_input_from_viewers": false,
     "hide_output_from_viewers": false,
     "node_id": "MA8lo89V0zKyjrWEU0pfDp",
     "report_properties": {
      "rowId": "ec1QN7kskofSl9oa748ujj"
     },
     "type": "CODE"
    }
   },
   "outputs": [
    {
     "data": {
      "text/plain": [
       "LinearRegression(\n",
       "  (linear): Linear(in_features=81, out_features=1, bias=True)\n",
       ")"
      ]
     },
     "metadata": {},
     "output_type": "display_data"
    }
   ],
   "source": [
    "# TODO put the model in train mode\n",
    "model.train()"
   ]
  },
  {
   "cell_type": "markdown",
   "metadata": {
    "datalore": {
     "hide_input_from_viewers": false,
     "hide_output_from_viewers": false,
     "node_id": "GJ8jLcD1XJz85PgjjP6OAs",
     "report_properties": {
      "rowId": "I5ZprsD2TqCZhjWMZa7w6W"
     },
     "type": "MD"
    }
   },
   "source": [
    "### Define a Loss Function\n",
    "\n",
    "Since we're dealing with regression problem, [MSELoss](https://pytorch.org/docs/stable/generated/torch.nn.MSELoss.html) is the canonical choice for the loss."
   ]
  },
  {
   "cell_type": "code",
   "execution_count": 99,
   "metadata": {
    "datalore": {
     "hide_input_from_viewers": false,
     "hide_output_from_viewers": false,
     "node_id": "I4YxOxANwKwye9CdoaSTBo",
     "report_properties": {
      "rowId": "xntWwAPw1oWxzBOOeCTX0Q"
     },
     "type": "CODE"
    }
   },
   "outputs": [],
   "source": [
    "# TODO define the loss function\n",
    "loss_function = torch.nn.MSELoss() "
   ]
  },
  {
   "cell_type": "code",
   "execution_count": 100,
   "metadata": {
    "datalore": {
     "hide_input_from_viewers": true,
     "hide_output_from_viewers": true,
     "node_id": "9dyYUeNyHijwcXMGJK6ItV",
     "type": "CODE"
    }
   },
   "outputs": [
    {
     "name": "stdout",
     "output_type": "stream",
     "text": [
      "Parameter name: linear.weight\n",
      "Parameter shape: torch.Size([1, 81])\n",
      "Parameter values: Parameter containing:\n",
      "tensor([[-0.0090,  0.0935,  0.0322,  0.0647, -0.0714, -0.0331,  0.0181, -0.0471,\n",
      "         -0.0105, -0.0718, -0.0322,  0.0271, -0.0040, -0.0132, -0.0206, -0.0655,\n",
      "          0.0367,  0.0633, -0.0644,  0.0393, -0.0867,  0.0053, -0.0609,  0.0129,\n",
      "          0.0195,  0.0404,  0.0545, -0.0605,  0.0689,  0.0290, -0.0676, -0.0772,\n",
      "         -0.0041,  0.0928,  0.0160, -0.0043,  0.0658, -0.0293, -0.0506, -0.1019,\n",
      "          0.0553, -0.0352,  0.0085, -0.0075,  0.0808, -0.1020,  0.1105,  0.0844,\n",
      "          0.0584, -0.0542, -0.0690,  0.1084,  0.0621, -0.0307,  0.0146,  0.0536,\n",
      "         -0.1101,  0.0186,  0.0155, -0.1004, -0.0749,  0.1108,  0.0224, -0.0780,\n",
      "         -0.0235,  0.0808, -0.0864,  0.0688,  0.0642,  0.0661, -0.0207,  0.0497,\n",
      "         -0.1085, -0.0541, -0.0692, -0.0750, -0.0011, -0.0768, -0.0601, -0.0199,\n",
      "         -0.0280]], requires_grad=True)\n",
      "--------------------------------------------------\n",
      "Parameter name: linear.bias\n",
      "Parameter shape: torch.Size([1])\n",
      "Parameter values: Parameter containing:\n",
      "tensor([-0.0705], requires_grad=True)\n",
      "--------------------------------------------------\n"
     ]
    }
   ],
   "source": [
    "for name, param in model.named_parameters():\n",
    "    print(f\"Parameter name: {name}\")\n",
    "    print(f\"Parameter shape: {param.shape}\")\n",
    "    print(f\"Parameter values: {param}\")\n",
    "    print(\"--------------------------------------------------\")"
   ]
  },
  {
   "cell_type": "markdown",
   "metadata": {
    "datalore": {
     "hide_input_from_viewers": false,
     "hide_output_from_viewers": false,
     "node_id": "nbPC2JzExRbFo4x6dZC7E5",
     "report_properties": {
      "rowId": "1Cyj3bWhK5yjRq91gZ5dre"
     },
     "type": "MD"
    }
   },
   "source": [
    "## Model Fitting"
   ]
  },
  {
   "cell_type": "markdown",
   "metadata": {
    "datalore": {
     "hide_input_from_viewers": false,
     "hide_output_from_viewers": false,
     "node_id": "x4g03tbnH6wzznRDmm3xJG",
     "report_properties": {
      "rowId": "WFGcY2dkplYAOgS9hXychy"
     },
     "type": "MD"
    }
   },
   "source": [
    "### Train the Model\n",
    "\n",
    "Everything is set for the model to train!\n",
    "\n",
    "- In the forward pass, the prediction is made using the previously defined model on the elements of the dataloader.\n",
    "- Then the loss (or error) needs to be computed by comparing the prediction to the actual label.\n",
    "- In the backward pass, the model learns and updates its weights based on the current gradient."
   ]
  },
  {
   "cell_type": "markdown",
   "metadata": {
    "datalore": {
     "hide_input_from_viewers": false,
     "hide_output_from_viewers": false,
     "node_id": "DX7wONX9ZSylAZQet97Qk9",
     "report_properties": {
      "rowId": "r4B6YCNPhYwdOuF1nAEY0E"
     },
     "type": "MD"
    }
   },
   "source": [
    "### First, let's do all of the steps manually, without using the optimizer\n",
    "\n",
    "**Hints:**\n",
    "* define number of epochs to see the dynamic. You need to see the effect over several epochs but it should no be too long. \n",
    "* use learning rate defined above as `lr`\n",
    "* when doing parameters update - do it under `with torch.no_grad():`. This would disable the gradient computation for the operations under it. And we don't need gradients for updating the weights step.\n",
    "* you need to update the model parameters. See [here](https://pytorch.org/tutorials/beginner/introyt/modelsyt_tutorial.html) for more details on how to access them\n",
    "* don't forget to track the learning (loss)"
   ]
  },
  {
   "cell_type": "code",
   "execution_count": 101,
   "metadata": {
    "datalore": {
     "hide_input_from_viewers": false,
     "hide_output_from_viewers": false,
     "node_id": "ufyNalTkr9AtcJI6YDvZtF",
     "report_properties": {
      "rowId": "mJIYxB2hlrnCZhYalDnpNC"
     },
     "type": "CODE"
    }
   },
   "outputs": [],
   "source": [
    "num_epochs = 10"
   ]
  },
  {
   "cell_type": "code",
   "execution_count": 102,
   "metadata": {
    "datalore": {
     "hide_input_from_viewers": true,
     "hide_output_from_viewers": true,
     "node_id": "ILym7ILLxGN2mEFvwKN0yD",
     "type": "CODE"
    }
   },
   "outputs": [
    {
     "name": "stdout",
     "output_type": "stream",
     "text": [
      "Loss value for epoch 0: 1704.4706914795765\n",
      "Loss value for epoch 1: 1338.5563048256097\n",
      "Loss value for epoch 2: 1134.9129559050514\n",
      "Loss value for epoch 3: 981.0160355124628\n",
      "Loss value for epoch 4: 861.9178673992556\n",
      "Loss value for epoch 5: 767.5377592946007\n",
      "Loss value for epoch 6: 693.8252854717814\n",
      "Loss value for epoch 7: 634.7058310184267\n",
      "Loss value for epoch 8: 587.6565604555682\n",
      "Loss value for epoch 9: 550.0640438715062\n"
     ]
    }
   ],
   "source": [
    "## TODO do a simple for-loop to illustrate how the gradient updates if done over batches. \n",
    "## Print loss values across epochs to compare with the PyTorch optimizers later\n",
    "\n",
    "gradients = []\n",
    "epoch_losses = []\n",
    "for epoch in range(num_epochs): # one epoch is one training on the entire training set\n",
    "    batch_losses = 0.0 #initialize epoch loss to keep track of it\n",
    "    for i, (batch,label) in enumerate(train_dataloader):\n",
    "        model.zero_grad()\n",
    "        #print(\"BATCH\", batch.shape)\n",
    "        outputs = model(batch) #forward pass\n",
    "        #print(\"OUTPUTS\",outputs)\n",
    "        loss = loss_function(outputs, label) #calculate loss\n",
    "        #print(\"SINGLE LOSS\",loss)\n",
    "        gradients.append(loss.item())\n",
    "        batch_losses += loss.item() #summing up the losses of this epoch for building the average later on\n",
    "        \n",
    "        #Backward pass\n",
    "        #reset gradients\n",
    "        loss.backward() #Compute gradients\n",
    "\n",
    "        #updating the parameters manually, using no_grad to speed up calculations\n",
    "        with torch.no_grad():\n",
    "            model.linear.weight -= lr*model.linear.weight.grad\n",
    "            model.linear.bias -= lr*model.linear.bias.grad\n",
    "\n",
    "    #after going through the entire test set once, i.e. after an epoch is completed, we calculate epoch mean loss\n",
    "    epoch_loss_average = batch_losses/len(train_dataloader) #len == 60the lenght is the number of batches, thus this is equivalent to the loss mean of the epoch\n",
    "    epoch_losses.append(epoch_loss_average) #keeping track over all epochs\n",
    "\n",
    "for i in range(len(epoch_losses)):\n",
    "    print(f\"Loss value for epoch {i}:\", epoch_losses[i])"
   ]
  },
  {
   "cell_type": "code",
   "execution_count": 0,
   "metadata": {
    "datalore": {
     "hide_input_from_viewers": true,
     "hide_output_from_viewers": true,
     "node_id": "SrmBlnDvCP6bXqIv6mOS0o",
     "type": "CODE"
    }
   },
   "outputs": [],
   "source": []
  },
  {
   "cell_type": "markdown",
   "metadata": {
    "datalore": {
     "hide_input_from_viewers": false,
     "hide_output_from_viewers": false,
     "node_id": "zuHy9zXw3DxzPaSiATP2ZK",
     "report_properties": {
      "rowId": "pSiKJi0nByED0pvGuESMOS"
     },
     "type": "MD"
    }
   },
   "source": [
    "This was equivalent to SGD optimizer"
   ]
  },
  {
   "cell_type": "markdown",
   "metadata": {
    "datalore": {
     "hide_input_from_viewers": false,
     "hide_output_from_viewers": false,
     "node_id": "ZvB7BXy0bV0Cg9QssiCLz6",
     "report_properties": {
      "rowId": "PC9i6rIu5vx8AhN5eIrSP7"
     },
     "type": "MD"
    }
   },
   "source": [
    "### Now let's do it in the pytorch style using the optimizer  \n",
    "\n",
    "The optimizer is the learning algorithm we use. In this case, we use Stochastic Gradient Descent (SGD).\n",
    "Redefine the model and initialize SGD optimizer"
   ]
  },
  {
   "cell_type": "code",
   "execution_count": 103,
   "metadata": {
    "datalore": {
     "hide_input_from_viewers": false,
     "hide_output_from_viewers": false,
     "node_id": "vKT2hFrPlSW9RaxI3zF524",
     "report_properties": {
      "rowId": "K7hv0NDBhF3XHiQTfaecl1"
     },
     "type": "CODE"
    }
   },
   "outputs": [],
   "source": [
    "# TODO Redefine the model and initialize SGD optimizer, write a train loop as above and compare the loss values\n",
    "model = LinearRegression(input_dim, output_dim)\n",
    "model = model.to(device)"
   ]
  },
  {
   "cell_type": "code",
   "execution_count": 104,
   "metadata": {
    "datalore": {
     "hide_input_from_viewers": true,
     "hide_output_from_viewers": true,
     "node_id": "td1LqJgsMo8ihJtQv0VAFT",
     "type": "CODE"
    }
   },
   "outputs": [],
   "source": [
    "optimizer = torch.optim.SGD(model.parameters(), lr=lr)"
   ]
  },
  {
   "cell_type": "code",
   "execution_count": 105,
   "metadata": {
    "datalore": {
     "hide_input_from_viewers": false,
     "hide_output_from_viewers": false,
     "node_id": "mrBcG2qHIxALzPCfQa0pc5",
     "report_properties": {
      "rowId": "mJIYxB2hlrnCZhYalDnpNC"
     },
     "type": "CODE"
    }
   },
   "outputs": [
    {
     "name": "stdout",
     "output_type": "stream",
     "text": [
      "Epoch [1/10], Avg. Loss: 1703.4792\n",
      "Epoch [2/10], Avg. Loss: 1334.9035\n",
      "Epoch [3/10], Avg. Loss: 1131.7753\n",
      "Epoch [4/10], Avg. Loss: 978.8468\n",
      "Epoch [5/10], Avg. Loss: 859.1062\n",
      "Epoch [6/10], Avg. Loss: 766.0929\n",
      "Epoch [7/10], Avg. Loss: 691.6985\n",
      "Epoch [8/10], Avg. Loss: 632.9005\n",
      "Epoch [9/10], Avg. Loss: 586.3170\n",
      "Epoch [10/10], Avg. Loss: 549.0495\n"
     ]
    }
   ],
   "source": [
    "training_losses_all = [] #used for a later exercise\n",
    "training_losses_average = [] #used for a later exericse\n",
    "for epoch in range(num_epochs):\n",
    "    epoch_loss = 0.0\n",
    "    for i, (inputs, targets) in enumerate(train_dataloader):\n",
    "\n",
    "        optimizer.zero_grad()\n",
    "        # Move batch data to device (GPU)\n",
    "        inputs, targets = inputs.to(device), targets.to(device)\n",
    "        \n",
    "        # Forward pass: compute predicted outputs\n",
    "        outputs = model.forward(inputs)\n",
    "        \n",
    "        # Compute loss: mean squared error\n",
    "        #loss = torch.mean((outputs - targets)**2)\n",
    "        loss = loss_function(outputs, targets)\n",
    "        epoch_loss += loss.item()  # Accumulate loss for the epoch\n",
    "        training_losses_all.append(loss.item()/len(train_dataloader)) #used for later exercise\n",
    "        # Backward pass: compute gradients\n",
    "        loss.backward() #backwards pass\n",
    "        \n",
    "        # Update model parameters using optimizer\n",
    "        optimizer.step()\n",
    "        \n",
    "    # Print average loss for the epoch\n",
    "    print(f\"Epoch [{epoch+1}/{num_epochs}], Avg. Loss: {epoch_loss / len(train_dataloader):.4f}\")\n",
    "    training_losses_average.append(epoch_loss) #used for later exercise"
   ]
  },
  {
   "cell_type": "markdown",
   "metadata": {
    "datalore": {
     "hide_input_from_viewers": false,
     "hide_output_from_viewers": false,
     "node_id": "Q6v9OknANRb7idMRbv8HII",
     "report_properties": {
      "rowId": "abwWUrdwRP0fBGfuAA5G9b"
     },
     "type": "MD"
    }
   },
   "source": [
    "### Make a Prediction\n",
    "\n",
    "Now that our model is trained, we can make a new prediction by inputting an unseen data row from the test dataset.\n",
    "\n",
    "Run this cell several times, does the model predict accurately?\n",
    "\n",
    "Set the number of epochs to 15 during training and try again!"
   ]
  },
  {
   "cell_type": "markdown",
   "metadata": {
    "datalore": {
     "hide_input_from_viewers": false,
     "hide_output_from_viewers": false,
     "node_id": "TlXCRVbIOewWrtMmcEh6g4",
     "report_properties": {
      "rowId": "4lSppsy2eLmJnL5dgViZUN"
     },
     "type": "MD"
    }
   },
   "source": [
    "Hell yeah! Approaches 50% over large numbers."
   ]
  },
  {
   "cell_type": "code",
   "execution_count": 106,
   "metadata": {
    "datalore": {
     "hide_input_from_viewers": false,
     "hide_output_from_viewers": false,
     "node_id": "KUR6R2rt1ORlN8azGJLXlg",
     "report_properties": {
      "rowId": "uHdzcGhMg9KbNV3lm6hz4i"
     },
     "type": "CODE"
    }
   },
   "outputs": [
    {
     "name": "stdout",
     "output_type": "stream",
     "text": [
      "Transposed given label: tensor([[3.4000e+00, 3.5000e+00, 1.6800e+00, 4.0500e+00, 2.2000e+01, 2.6700e+01,\n",
      "         9.8500e+01, 1.8000e-01, 6.2600e+00, 6.2700e+01, 5.5000e-01, 2.6200e+01,\n",
      "         2.8000e+01, 9.2800e+01, 3.9000e+00, 2.3000e+01, 8.9200e+01, 4.7100e+00,\n",
      "         4.2900e+00, 6.0000e+00, 3.2800e+00, 8.1300e+00, 1.0000e+01, 8.7300e+01,\n",
      "         2.9000e+00, 3.6600e+00, 4.7000e+00, 4.0000e+01, 1.8200e+01, 5.8000e+00,\n",
      "         8.8000e+00, 1.0400e+01, 2.5000e+01, 1.4000e+01, 2.0000e+01, 2.3400e+00,\n",
      "         5.0000e+00, 5.9400e+00, 5.4000e+00, 1.1590e+00, 2.0400e+01, 9.6000e+01,\n",
      "         4.1500e+01, 7.5000e+01, 3.3000e+01, 8.6400e+01, 1.7400e+01, 9.0900e+00,\n",
      "         1.7300e+01, 1.1000e+00, 4.7600e+01, 7.2200e+01, 1.0690e+02, 9.8000e+01,\n",
      "         3.7000e+01, 8.6000e+00, 3.8300e+01, 1.5000e+01, 5.3000e+01, 3.0500e+01,\n",
      "         2.9200e+00, 1.0600e+01, 1.6100e+01, 7.5700e+01, 2.9570e+01, 8.6900e+01,\n",
      "         4.0000e+01, 8.6000e+01, 1.1000e+02, 7.3000e+01, 2.8000e+01, 1.4100e+01,\n",
      "         1.6400e+01, 6.2000e+01, 1.8000e+00, 1.6000e+01, 9.1000e+00, 8.6000e+01,\n",
      "         1.0200e+01, 4.3000e+00, 4.6300e+00, 6.1100e+01, 3.8200e+01, 1.5500e-01,\n",
      "         2.7600e+01, 7.5000e+01, 2.6000e+00, 4.9000e+01, 2.3600e+01, 3.8600e+01,\n",
      "         8.7300e+01, 3.7000e+01, 3.5800e+01, 1.4300e+01, 4.1100e+00, 8.5200e+01,\n",
      "         5.9300e+00, 9.1100e+00, 7.6000e-01, 1.0000e+02, 9.3000e+01, 2.8100e+01,\n",
      "         1.0300e+01, 5.2500e+01, 3.9800e+00, 1.9800e+01, 3.8000e+01, 3.7760e+01,\n",
      "         8.6000e+00, 9.6000e+01, 1.0750e+00, 9.1400e+01, 7.2000e+01, 1.0000e+02,\n",
      "         1.0000e+01, 3.9200e+00, 1.7700e+01, 7.2000e+01, 1.4750e+01, 4.1000e+01,\n",
      "         1.5900e+01, 4.6500e+01, 1.2000e+01, 1.3000e-01, 5.3000e+01, 5.5200e+00,\n",
      "         1.5800e+01, 3.0000e+01, 9.1000e+01, 3.1400e+01, 8.5000e+01, 6.2000e+00,\n",
      "         7.5000e+01, 8.6700e+00, 8.7800e+01, 7.3100e+00, 4.3000e+00, 1.5200e+00,\n",
      "         1.3900e+01, 6.5000e+00, 1.5100e+01, 1.3900e+01, 3.9300e+00, 8.5600e+00,\n",
      "         8.0000e+00, 3.0200e+01, 3.7000e+01, 1.3290e+02, 4.5000e+01, 8.8100e+01,\n",
      "         4.0000e-01, 4.8000e+00, 7.9900e+01, 8.1500e+01, 4.7300e+00, 6.5000e+01,\n",
      "         3.7600e+00, 7.8500e+01, 5.1300e+00, 1.1900e+02, 6.9000e+01, 1.3400e+01,\n",
      "         3.4300e+01, 8.0000e+01, 6.9700e+01, 9.4000e+01, 8.2000e+01, 2.1000e+01,\n",
      "         5.7000e-01, 2.5000e+01, 5.9400e+00, 1.5800e-01, 4.8000e-01, 9.2300e+01,\n",
      "         1.9600e+01, 2.5000e+01, 3.5000e+01, 5.8000e+01, 4.0900e+00, 9.2000e+01,\n",
      "         3.0800e+01, 5.6300e+01, 7.9000e+01, 3.5000e+01, 1.9600e+00, 1.0400e+00,\n",
      "         7.1500e+00, 1.5700e+01, 3.0000e+01, 7.0000e+00, 7.5000e+00, 3.2400e+00,\n",
      "         7.7000e+01, 9.7000e+01, 3.0000e+01, 4.3000e+01, 7.2900e+01, 9.7000e+00,\n",
      "         2.8600e+01, 1.0000e+01, 2.8000e+01, 5.4500e-01, 1.1850e+02, 3.5000e+01,\n",
      "         6.9200e+00, 5.3000e+01, 8.7000e+01, 6.8400e+01, 2.9200e+01, 5.5000e+00,\n",
      "         1.4500e+01, 7.5000e+01, 1.9100e+01, 2.1900e+00, 8.6000e+01, 1.1600e+00,\n",
      "         9.2900e+01, 5.4000e+00, 4.4000e+01, 3.7000e+01, 8.0000e+01, 9.4200e+01,\n",
      "         7.1000e+00, 9.0000e+01, 9.0500e+01, 6.7600e+01, 2.8000e+01, 6.1200e+00,\n",
      "         1.5200e+01, 2.1800e+01, 3.3500e+01, 1.5300e+00, 7.4500e+01, 6.9400e+01,\n",
      "         1.0000e+01, 3.3000e+00, 5.5000e+01, 2.6000e-01, 1.8400e+00, 3.7000e-01,\n",
      "         5.4800e+01, 5.1700e+00, 3.2400e+01, 7.4000e+01, 5.5000e-01, 8.4500e+00,\n",
      "         5.7000e+00, 7.8000e+01, 2.0000e+00, 7.9000e+01, 7.4000e+01, 1.2000e+02,\n",
      "         8.8000e+01, 1.7400e+01, 8.6000e+01, 7.0000e+01]]) vs. Transposed predicted label: tensor([[  1.6429,  11.6940,  -9.5664, -13.6729,  37.4087,  45.9495,  45.2030,\n",
      "         -13.8001,  -2.5915,  47.3257,  10.7551,   9.9010,  50.5440,  62.4534,\n",
      "          -4.4761,   6.9667,  49.9932,  -4.6377,  -0.8700,   0.8071,   6.6116,\n",
      "          11.0815,  53.3982,  50.2631,   9.8917,  24.9031,  15.6775,  50.6734,\n",
      "         -16.8955,  22.3047,   8.7346,  38.3953,  54.1143,   3.0905,  32.5143,\n",
      "           2.1197,  -3.8718,   1.6546,   2.6548,  -7.3379,  21.9911,  61.9139,\n",
      "         -17.3900,  44.2749,  33.2784,  42.1649,  -4.6302,  -4.2131,  -8.4338,\n",
      "          -2.5004,  51.2754,  50.0088,  81.2028,  58.5254,  51.7466,   2.0581,\n",
      "          13.1194,  15.2939,  40.3517,   1.1045,   3.8509,  13.9751,  16.9426,\n",
      "          67.8020,  31.8949,  47.7059,  51.7645,  49.8035,  59.4571,  50.3498,\n",
      "          30.8377,  17.0088,  -5.8071,  53.3713,  -3.2178,  35.3602, -11.3430,\n",
      "          49.4724,  -4.7900,  -6.4699,   9.5987,  47.0745,  13.1194, -22.7438,\n",
      "          34.6187,  49.8958,  -2.0893,  61.8851,  19.9279,  49.9366,  50.5625,\n",
      "          48.7841,   9.2433,   6.4697,  -6.2422,  54.2253, -10.5218,   6.3204,\n",
      "         -11.3396,  58.8511,  50.4225,  34.2628,  -1.8040,  18.6717,   3.9288,\n",
      "           4.8412,  68.1088,   9.4544,  -8.2179,  44.8341,   1.4954,  50.2775,\n",
      "          59.3190,  60.1740,  11.9669,  20.0799,   1.8474,  50.3253,  -4.0593,\n",
      "          50.5288,  16.1565,  54.7406,  34.6454,  12.1587,  58.4721,   2.7992,\n",
      "          -2.8511,  13.3248,  44.6240,  45.8770,  49.4724,   0.5689,  57.4478,\n",
      "           9.2563,  60.3152,   4.1102,  48.3715, -10.7853,   7.3269,  12.2192,\n",
      "          15.9311,  -5.7790, -17.3964,  -1.4325,  -4.8396,  46.0786,  35.1423,\n",
      "          79.4590,  54.8942,  50.3064,  -4.2585,  12.8467,  50.6770,  63.0901,\n",
      "          11.7921,  57.3732,  -7.9689,  48.6574,  16.0392,  54.9510,  51.5699,\n",
      "          -4.3252,   8.9958,  56.9965,  44.5450,  49.8616,  42.1649,  35.9640,\n",
      "         -12.6332,  45.7939,  -2.8226,  -8.2308,  -8.1720,  63.0530,  38.0178,\n",
      "          40.7972,  50.8885,  48.0596,  -6.3768,  51.5649,  49.4485,  35.6763,\n",
      "          46.5831,  11.3180,  -7.0020,  42.0095,   6.0357,  -2.6473,  37.9993,\n",
      "           3.3702,   0.6948,   7.4277,  58.3961,  41.8299,  54.1620,  58.0695,\n",
      "          51.1467, -17.8410,  11.5395,  12.3645,  46.0176, -15.9202,  68.3669,\n",
      "           9.7409,   2.9049,  49.9565,  53.0744,  47.6361,  30.1704,   2.2846,\n",
      "          13.3692,  47.9932,  -2.9030,   5.7737,  50.4617, -13.9121,  50.4761,\n",
      "         -10.2724,  48.0824,  34.3548,  55.0704,  50.3150,   5.4844,  63.9774,\n",
      "          41.1729,  50.1741,  41.1031,   0.4301,   3.7209,  13.7868,  39.7964,\n",
      "         -11.2295,  51.1467,  51.2674,  -0.3242,  -1.9513,  30.6993,  -7.4144,\n",
      "          -4.4369, -28.1017,  53.9672, -12.7407,  12.2359,  49.8376,  -6.7307,\n",
      "           0.1406,  -7.4271,  59.4073,  -9.6105,  44.0046,  40.4117,  -6.6203,\n",
      "          55.1389,  -0.5896,  65.5374,  58.2876]])\n",
      "Random batch first row: tensor([3.4000]) vs predicted first row: tensor([1.6429])\n"
     ]
    }
   ],
   "source": [
    "# TODO get a random element of the test dataloader\n",
    "x = random.randint(0, len(val_dataloader)-1) #len(test_dataloader) == 17\n",
    "\n",
    "for i, batch in enumerate(val_dataloader):\n",
    "    if i == x:\n",
    "        random_batch = batch\n",
    "        break #this stops the for loop, so we dont do more comparisons than necessary\n",
    "random_data, random_label = random_batch #split the batch\n",
    "# TODO make a prediction\n",
    "with torch.no_grad():\n",
    "    prediction = model(random_data)\n",
    "\n",
    "# print predicted label and given label\n",
    "print(f\"Transposed given label: {random_label.transpose(0,1)} vs. Transposed predicted label: {prediction.transpose(0,1)}\")\n",
    "print(f\"Random batch first row: {random_label[0]} vs predicted first row: {prediction[0]}\")"
   ]
  },
  {
   "cell_type": "markdown",
   "metadata": {
    "datalore": {
     "hide_input_from_viewers": false,
     "hide_output_from_viewers": false,
     "node_id": "OFQV7XBjdZvae6tB09V8Zz",
     "report_properties": {
      "rowId": "gSzHcrAnWfZ2yYbFrVFpDr"
     },
     "type": "MD"
    }
   },
   "source": [
    "### Track and Plot the Training and Validation error"
   ]
  },
  {
   "cell_type": "markdown",
   "metadata": {
    "datalore": {
     "hide_input_from_viewers": false,
     "hide_output_from_viewers": false,
     "node_id": "OzItiEnRIc5eFmpPpdols2",
     "report_properties": {
      "rowId": "ujtLVkCUtZXYFAbtrR9XSE"
     },
     "type": "MD"
    }
   },
   "source": [
    "What we have seen so far is the basic principle of training a model and making a prediction. But one might be interesting to see more about the training process, for instance how the training error evolves with time.\n",
    "\n",
    "For this step, we are going to **refine the training process** and **add some important information saving for plotting**."
   ]
  },
  {
   "cell_type": "code",
   "execution_count": 107,
   "metadata": {
    "datalore": {
     "hide_input_from_viewers": false,
     "hide_output_from_viewers": false,
     "node_id": "m5DePWAHyGQN8tq4KhZ8Xa",
     "report_properties": {
      "rowId": "OFTGSTTJn7jgwQlDnF9NUF"
     },
     "type": "CODE"
    }
   },
   "outputs": [
    {
     "name": "stdout",
     "output_type": "stream",
     "text": [
      "Done, see above for implementation and below for results:\n",
      "Length of training_losses_all: 600\n",
      "All loss averages of the training epochs: [102208.75105917253, 80094.21034780846, 67906.51940658364, 58730.80523374299, 51546.37139390085, 45965.57423362312, 41501.91009635196, 37974.031677058985, 35179.019405226296, 32942.97030098737]\n"
     ]
    }
   ],
   "source": [
    "# TODO refine the training function from above\n",
    "# it should contain:\n",
    "# - saving of losses\n",
    "# - returning the mean loss\n",
    "print(\"Done, see above for implementation and below for results:\")\n",
    "print(\"Length of training_losses_all:\", len(training_losses_all))\n",
    "print(\"All loss averages of the training epochs:\", training_losses_average)"
   ]
  },
  {
   "cell_type": "code",
   "execution_count": 108,
   "metadata": {
    "datalore": {
     "hide_input_from_viewers": false,
     "hide_output_from_viewers": false,
     "node_id": "gkhJltBQhtqZbTx1ZNI3eq",
     "report_properties": {
      "rowId": "znREfkABnnvHy0OcHckyZU"
     },
     "type": "CODE"
    }
   },
   "outputs": [],
   "source": [
    "# you can also combine it with the training function\n",
    "def train_and_test_or_val(model, train_dataloader, val_dataloader, loss_function, optimizer,epochs):\n",
    "    train_losses = []\n",
    "    val_losses = []\n",
    "    for epoch in range(epochs):\n",
    "        ###### TRAINING\n",
    "        model.train() #Set model to training mode\n",
    "        train_loss = 0.0\n",
    "        val_loss = 0.0\n",
    "    \n",
    "        for i, (inputs, labels) in enumerate(train_dataloader):\n",
    "            #Prediction and Loss\n",
    "            optimizer.zero_grad()\n",
    "\n",
    "            prediction = model(inputs) #forward \n",
    "            loss = loss_function(prediction, labels)\n",
    "            train_loss += loss.item()\n",
    "            \n",
    "            #backwards\n",
    "            loss.backward()\n",
    "            optimizer.step()\n",
    "            \n",
    "        \n",
    "        train_loss = train_loss/len(train_dataloader)\n",
    "        train_losses.append(train_loss)\n",
    "\n",
    "        ##### VALIDATION\n",
    "        model.eval() #Set model to evaluation mode        \n",
    "        with torch.no_grad(): #forward pass, loss, accumulate loss\n",
    "            for i, (inputs, labels) in enumerate(val_dataloader):\n",
    "                prediction = model(inputs) #forward pass\n",
    "                loss = loss_function(prediction, labels) #loss\n",
    "                val_loss += loss.item() #accumulate loss\n",
    "        \n",
    "        val_loss = val_loss/len(val_dataloader) #mean\n",
    "        val_losses.append(val_loss)\n",
    "    return train_losses,val_losses\n",
    "        "
   ]
  },
  {
   "cell_type": "code",
   "execution_count": 109,
   "metadata": {
    "datalore": {
     "hide_input_from_viewers": true,
     "hide_output_from_viewers": true,
     "node_id": "eEpNE0gNsch8SFd5baeiq1",
     "type": "CODE"
    }
   },
   "outputs": [],
   "source": [
    "def run_training(num_epochs, model, train_dataloader, val_dataloader, loss_function, optimizer):\n",
    "    #arrays for saving and returning\n",
    "    train_losses = [] \n",
    "    val_losses = []\n",
    "\n",
    "    #loopen\n",
    "    for i in range(num_epochs):\n",
    "        tloss, vloss = train_and_test_or_val(model, train_dataloader, val_dataloader, loss_function, optimizer, epochs=1)\n",
    "        train_losses.append(tloss[0])\n",
    "        val_losses.append(vloss[0])\n",
    "        \n",
    "    return np.array(train_losses), np.array(val_losses)\n",
    "\n",
    "def restart_model(model):\n",
    "    for param in model.parameters():\n",
    "        if param.requires_grad:\n",
    "            param.data.uniform_(-0.1, 0.1)\n",
    "restart_model(model)\n",
    "#call the run_training function and run it for 10 epochs\n",
    "num_epochs = 15\n",
    "\n",
    "train_losses, val_losses = run_training(num_epochs, model, train_dataloader, val_dataloader, loss_function, optimizer)"
   ]
  },
  {
   "cell_type": "code",
   "execution_count": 0,
   "metadata": {
    "datalore": {
     "hide_input_from_viewers": true,
     "hide_output_from_viewers": true,
     "node_id": "Q7aC2tnJTIEG75hOr5NUSR",
     "type": "CODE"
    }
   },
   "outputs": [],
   "source": []
  },
  {
   "cell_type": "code",
   "execution_count": 110,
   "metadata": {
    "datalore": {
     "hide_input_from_viewers": true,
     "hide_output_from_viewers": true,
     "node_id": "ERoAtxDcMoLifiVSvAoM1r",
     "type": "CODE"
    }
   },
   "outputs": [
    {
     "name": "stdout",
     "output_type": "stream",
     "text": [
      "[1701.17635434 1334.90893213 1131.43994343  978.8310394   858.97310157\n",
      "  765.30886117  691.87861272  633.38907235  586.3553313   549.4336671\n",
      "  519.47811267  495.28405322  475.95255312  460.54670165  447.2591379 ]\n",
      "[1452.26364443 1215.79584907 1043.83974154  917.50032181  804.78954829\n",
      "  721.66413452  658.16483221  607.60873889  560.58705647  529.90976348\n",
      "  503.58247326  480.21558865  465.45136799  451.5893437   437.3528431 ]\n"
     ]
    }
   ],
   "source": [
    "print(train_losses)\n",
    "print(val_losses)"
   ]
  },
  {
   "cell_type": "code",
   "execution_count": 111,
   "metadata": {
    "datalore": {
     "hide_input_from_viewers": false,
     "hide_output_from_viewers": false,
     "node_id": "F7vG6dnrZOksdbfjBssnCc",
     "report_properties": {
      "rowId": "5QtBO55NVtDWHNjtYagLaB"
     },
     "type": "CODE"
    }
   },
   "outputs": [],
   "source": [
    "# TODO write a plot function\n",
    "def plot_losses(num_epochs, train_losses, val_losses):\n",
    "    epochs = list(range(num_epochs))\n",
    "    sns.set(style=\"white\")\n",
    "    plt.plot(epochs, train_losses, marker='o', linestyle='--', label=\"Training Loss\")\n",
    "    plt.plot(epochs, val_losses, marker='o', linestyle='--', label=\"Validation Loss\")\n",
    "    \n",
    "    plt.title(\"Training and Validation Losses\")\n",
    "    plt.xlabel(\"Epoch\")\n",
    "    plt.ylabel(\"Loss\")\n",
    "    plt.legend()\n",
    "    sns.despine()\n",
    "    plt.show()"
   ]
  },
  {
   "cell_type": "code",
   "execution_count": 112,
   "metadata": {
    "datalore": {
     "hide_input_from_viewers": false,
     "hide_output_from_viewers": false,
     "node_id": "a1HKLdW0n6rzfXkPectIRz",
     "report_properties": {
      "rowId": "jdBwDn6CL5psTqjhXUBvE8"
     },
     "type": "CODE"
    }
   },
   "outputs": [
    {
     "data": {
      "image/png": "[encoded data removed]"
     },
     "metadata": {
      "image/png": {}
     },
     "output_type": "display_data"
    }
   ],
   "source": [
    "# TODO plot losses\n",
    "#Test values because real ones didnt work\n",
    "#train_losses = [0.1, 0.08, 0.06, 0.05]  # Example training losses\n",
    "#val_losses = [0.2, 0.18, 0.15, 0.12]    # Example validation losses\n",
    "#num_epochs = 4\n",
    "\n",
    "plot_losses(num_epochs, train_losses, val_losses)"
   ]
  },
  {
   "cell_type": "markdown",
   "metadata": {
    "datalore": {
     "hide_input_from_viewers": false,
     "hide_output_from_viewers": false,
     "node_id": "m3HD6kUXRHBp6qIPs3sG9m",
     "report_properties": {
      "rowId": "xuLdhEJ82BA6uVrgxUtOun"
     },
     "type": "MD"
    }
   },
   "source": [
    "Comment on the loss curve. Does it look as expected? Why/Why not?\n",
    "If not, what might be the reason."
   ]
  },
  {
   "cell_type": "markdown",
   "metadata": {
    "datalore": {
     "hide_input_from_viewers": false,
     "hide_output_from_viewers": false,
     "node_id": "ke7IEI5LlRkZL4Vq2rNUg0",
     "report_properties": {
      "rowId": "fzB3oTLNClTlHnyWu6lXtT"
     },
     "type": "MD"
    }
   },
   "source": [
    "# Hyperparameters influence"
   ]
  },
  {
   "cell_type": "markdown",
   "metadata": {
    "datalore": {
     "hide_input_from_viewers": false,
     "hide_output_from_viewers": false,
     "node_id": "xrkX1x1WHAAKSR75jOYPYE",
     "report_properties": {
      "rowId": "KAeUoASlTQZ9spzpgT7lNl"
     },
     "type": "MD"
    }
   },
   "source": [
    "Now, once we successfully reproduced linear regression using PyTorch, lets explore the hyperparameters influence, such as learning rate or batch size."
   ]
  },
  {
   "cell_type": "markdown",
   "metadata": {
    "datalore": {
     "hide_input_from_viewers": false,
     "hide_output_from_viewers": false,
     "node_id": "yW8OgBeVAforCkTh4WkVf9",
     "report_properties": {
      "rowId": "acJLPpO6LHaDQH9uM39zn8"
     },
     "type": "MD"
    }
   },
   "source": [
    "Train several models with 30 train epochs and using different learning rates - [0.0001, 0.001, 0.01, 0.1, 1, 10].\n",
    "What do you notice? Why?\n",
    "\n",
    "*Hints*: \n",
    "* Do not forget to reinitialize models and update the optimizers\n",
    "* Use different colors and line styles to display different learning rates and train-validation splits"
   ]
  },
  {
   "cell_type": "code",
   "execution_count": 125,
   "metadata": {
    "datalore": {
     "hide_input_from_viewers": false,
     "hide_output_from_viewers": false,
     "node_id": "HDJFNN9vT5kOETVhOGyhLV",
     "report_properties": {
      "rowId": "5dsPhA02Q9ZLdNBhqPk0hc"
     },
     "type": "CODE"
    }
   },
   "outputs": [
    {
     "name": "stdout",
     "output_type": "stream",
     "text": [
      "[2176.14472211 1937.33595537 1805.16791945 1721.26039095 1661.82089197\n",
      " 1615.59346529 1575.86019131 1541.40791734 1508.40271252 1478.35547196\n",
      " 1449.17953168 1422.34659312 1395.74853634 1370.32393355 1344.87340851\n",
      " 1321.88643661 1297.94331252 1276.34683296 1255.35446839 1234.8396561\n",
      " 1214.613622   1195.40122758 1176.09784082 1157.7097343  1140.02282225\n",
      " 1122.56342018 1105.49495266 1089.34573526 1073.1170375  1057.23589537]\n",
      "[2046.84248231 1855.52472017 1745.33355584 1707.44961401 1627.74207653\n",
      " 1588.91035249 1553.21123759 1519.27885083 1485.45580949 1457.97330598\n",
      " 1427.70687708 1403.05764149 1389.07834537 1359.7351058  1340.60441847\n",
      " 1317.14491884 1300.48710688 1269.36785963 1238.27968637 1216.99360824\n",
      " 1204.32615271 1179.45298125 1168.0156436  1148.75681426 1132.49998733\n",
      " 1115.6612892  1092.72377638 1074.94742112 1058.76326011 1051.89291672]\n",
      "[1699.72102132 1333.34111265 1129.81833604  978.12767702  857.98125596\n",
      "  765.11848762  691.25290934  633.3889171   586.28204446  548.99793268\n",
      "  519.47996078  495.32033275  475.68685381  460.10265215  447.35947964\n",
      "  436.98566406  428.19560991  421.28444143  415.22075657  409.47235595\n",
      "  405.12873344  401.3632903   398.19810739  395.13418223  392.61941519\n",
      "  390.62461257  388.52120686  386.58573317  385.09175101  383.49889864]\n",
      "[1465.97972821 1207.17565486 1041.43885703  907.94824754  809.6970651\n",
      "  724.71291238  658.52332207  602.70357277  557.44541319  525.21236243\n",
      "  503.00765624  478.5567905   463.39477294  448.76803561  433.80875263\n",
      "  427.20183938  418.30932776  409.57352298  406.80928527  399.1133044\n",
      "  397.1389402   392.78672587  395.926406    393.08996891  391.99047276\n",
      "  381.93268952  381.5513342   382.05834275  380.88256305  378.52484182]\n",
      "[937.31569787 452.27043481 393.54571389 377.45709902 369.21597675\n",
      " 363.6248777  359.59233717 356.52881448 354.29332088 352.88726367\n",
      " 350.91573069 349.40754608 347.78449851 347.4732924  346.25333589\n",
      " 345.34284408 344.63172789 343.94642332 342.88565043 342.79230193\n",
      " 342.18561806 341.24778393 340.81171106 340.26277754 339.55283115\n",
      " 339.09645465 338.61258725 337.91229857 337.96421832 337.94501053]\n",
      "[523.93298153 406.04729758 381.12644828 368.81527598 367.49386319\n",
      " 359.19352245 348.10392591 347.79999627 347.45879665 347.47281449\n",
      " 345.89273874 345.1305315  345.89809259 340.60766905 346.90204954\n",
      " 338.10445465 340.28607803 339.64664064 337.65872582 334.5150473\n",
      " 333.09134193 335.61733737 337.22332222 334.19340815 330.32051068\n",
      " 334.61129804 333.93605075 336.73684338 334.27420438 330.07181624]\n"
     ]
    }
   ],
   "source": [
    "num_epochs = 30\n",
    "## TODO - train models with different learning rates\n",
    "learning_rates = [0.0001, 0.001, 0.01]\n",
    "all_epochs_train_losses = []\n",
    "all_epochs_val_losses = []\n",
    "\n",
    "for lr in learning_rates:\n",
    "    restart_model(model)\n",
    "    optimizer = torch.optim.SGD(model.parameters(), lr=lr)\n",
    "    train_losses, val_losses = run_training(num_epochs, model, train_dataloader, val_dataloader, loss_function, optimizer)\n",
    "    print(train_losses)\n",
    "    print(val_losses)\n",
    "    all_epochs_train_losses.append(train_losses)\n",
    "    all_epochs_val_losses.append(val_losses)\n",
    "\n"
   ]
  },
  {
   "cell_type": "code",
   "execution_count": 126,
   "metadata": {
    "datalore": {
     "hide_input_from_viewers": true,
     "hide_output_from_viewers": true,
     "node_id": "uq7YJYYJ0cAY1TIHbGmw0b",
     "type": "CODE"
    }
   },
   "outputs": [
    {
     "data": {
      "text/plain": [
       "[array([2176.14472211, 1937.33595537, 1805.16791945, 1721.26039095,\n",
       "        1661.82089197, 1615.59346529, 1575.86019131, 1541.40791734,\n",
       "        1508.40271252, 1478.35547196, 1449.17953168, 1422.34659312,\n",
       "        1395.74853634, 1370.32393355, 1344.87340851, 1321.88643661,\n",
       "        1297.94331252, 1276.34683296, 1255.35446839, 1234.8396561 ,\n",
       "        1214.613622  , 1195.40122758, 1176.09784082, 1157.7097343 ,\n",
       "        1140.02282225, 1122.56342018, 1105.49495266, 1089.34573526,\n",
       "        1073.1170375 , 1057.23589537]),\n",
       " array([1699.72102132, 1333.34111265, 1129.81833604,  978.12767702,\n",
       "         857.98125596,  765.11848762,  691.25290934,  633.3889171 ,\n",
       "         586.28204446,  548.99793268,  519.47996078,  495.32033275,\n",
       "         475.68685381,  460.10265215,  447.35947964,  436.98566406,\n",
       "         428.19560991,  421.28444143,  415.22075657,  409.47235595,\n",
       "         405.12873344,  401.3632903 ,  398.19810739,  395.13418223,\n",
       "         392.61941519,  390.62461257,  388.52120686,  386.58573317,\n",
       "         385.09175101,  383.49889864]),\n",
       " array([937.31569787, 452.27043481, 393.54571389, 377.45709902,\n",
       "        369.21597675, 363.6248777 , 359.59233717, 356.52881448,\n",
       "        354.29332088, 352.88726367, 350.91573069, 349.40754608,\n",
       "        347.78449851, 347.4732924 , 346.25333589, 345.34284408,\n",
       "        344.63172789, 343.94642332, 342.88565043, 342.79230193,\n",
       "        342.18561806, 341.24778393, 340.81171106, 340.26277754,\n",
       "        339.55283115, 339.09645465, 338.61258725, 337.91229857,\n",
       "        337.96421832, 337.94501053])]"
      ]
     },
     "metadata": {},
     "output_type": "display_data"
    }
   ],
   "source": [
    "all_epochs_train_losses"
   ]
  },
  {
   "cell_type": "code",
   "execution_count": 127,
   "metadata": {
    "datalore": {
     "hide_input_from_viewers": false,
     "hide_output_from_viewers": false,
     "node_id": "N7gleE0dhpp1ozHOxL20w6",
     "report_properties": {
      "rowId": "VYzdLUGrly5oG1graPTJQv"
     },
     "type": "CODE"
    }
   },
   "outputs": [
    {
     "data": {
      "image/png": "[encoded data removed]"
     },
     "metadata": {
      "image/png": {}
     },
     "output_type": "display_data"
    }
   ],
   "source": [
    "## TODO plot the losses from different models. What do you see and why?\n",
    "labels = []\n",
    "for i, lr in enumerate(learning_rates):\n",
    "    plt.plot(all_epochs_train_losses[i], color=f\"C{i}\", linestyle='-')\n",
    "    plt.plot(all_epochs_val_losses[i], color=f\"C{i}\", linestyle='--')\n",
    "    train_label = f\"Train LR={lr}\"\n",
    "    val_label = f\"Validation LR={lr}\"\n",
    "    if train_label not in labels:\n",
    "        plt.plot(train_losses, label=train_label, color=f\"C{i}\", linestyle='-')\n",
    "        labels.append(train_label)\n",
    "    else:\n",
    "        plt.plot(train_losses, color=f\"C{i}\", linestyle='-')\n",
    "    if val_label not in labels:\n",
    "        plt.plot(val_losses, label=val_label, color=f\"C{i}\", linestyle='--')\n",
    "        labels.append(val_label)\n",
    "    else:\n",
    "        plt.plot(val_losses, color=f\"C{i}\", linestyle='--')\n",
    "\n",
    "legend_labels = []\n",
    "for lr in learning_rates:\n",
    "    legend_labels.append(lr)\n",
    "sns.set(style=\"white\")\n",
    "plt.title(\"Training and Validation Losses for Different Learning Rates\")\n",
    "plt.xlabel(\"Epoch\")\n",
    "plt.ylabel(\"Loss\")\n",
    "plt.legend(bbox_to_anchor=(1.5, 1))\n",
    "sns.despine()\n",
    "plt.show()"
   ]
  },
  {
   "cell_type": "markdown",
   "metadata": {
    "datalore": {
     "hide_input_from_viewers": false,
     "hide_output_from_viewers": false,
     "node_id": "uNzwYuUoisDhzPzy3Ss5ic",
     "report_properties": {
      "rowId": "9KfWHAxmi4GFs50q5PMcRQ"
     },
     "type": "MD"
    }
   },
   "source": [
    "## How do we know the amount of epochs and best learning rates?\n",
    "\n",
    "The honest answer - we just try it out. The heuristics, which are typically used are the following\n",
    "* use adaptive optimizers. Adam would be a typical example. It is an adaptive learning rate optimization algorithm that is designed to be appropriate for non-stationary objectives and problems with very noisy and/or sparse gradients. More details [here](https://paperswithcode.com/method/adam). This makes the training more robust to the choise of the the learning rate\n",
    "* Use schedulers for the training. They change the value of the learning rate based on the loss behaviour. The most typical ones are\n",
    "  * Early stopper . The early stopper is helpful to avoid redundunt computations and overfitting. It basically stops the train loop if the loss function does not decrease on the validation split for some time.\n",
    "  * Warm up. Warm up slowly increases the learning rate in the begining of the training. This helps to avoid bad influence of not-so-good initialisation and especially helpful for the layers, which need to accumulate statistics, such as BatchNorm. We will use such layers later in the course."
   ]
  },
  {
   "cell_type": "markdown",
   "metadata": {
    "datalore": {
     "hide_input_from_viewers": false,
     "hide_output_from_viewers": false,
     "node_id": "Lohrr0LHyj2ZqTOVFvhGEW",
     "report_properties": {
      "rowId": "DTbFbWn4J5joI2uUcVvH2o"
     },
     "type": "MD"
    }
   },
   "source": [
    "### Task\n",
    "Modify the the training function with the early stopper logic.\n",
    "This should stop the training loop if the validation loss function does not improve over $N$ epochs. The improvement is only something, which is better than the $tol$ value, which stays for the tolerance.\n",
    "\n",
    "Use $tol=2$, $N=5$, $num\\_epochs=150$, $lr=0.01$ for the function start.\n",
    "\n",
    "**Question**:\n",
    "* Can $tol=0$? Why?\n",
    "* How many epochs it would really run? Try to change the $lr=0.001$ and $lr=0.0001$ and see when this would stop.\n",
    "* What happens if you increase the tolerance?\n",
    "* What if you increase $N$?"
   ]
  },
  {
   "cell_type": "code",
   "execution_count": 131,
   "metadata": {
    "datalore": {
     "hide_input_from_viewers": false,
     "hide_output_from_viewers": false,
     "node_id": "bfouMLHp8aVYBNws0GXtLL",
     "report_properties": {
      "rowId": "n8imWFobvz1ViwB83ySZKN"
     },
     "type": "CODE"
    }
   },
   "outputs": [],
   "source": [
    "## TODO: adopt the train function with the early stopper logic\n",
    "def run_training_adapted(tolerance, num_epochs, model, train_dataloader, val_dataloader, loss_function, optimizer):\n",
    "    #arrays for saving and returning\n",
    "    train_losses = []\n",
    "    val_losses = [] \n",
    "    stop_counter = 0\n",
    "    \n",
    "    for i in range(num_epochs):\n",
    "        train_loss, val_loss = train_and_test_or_val(model, train_dataloader, val_dataloader, loss_function, optimizer,epochs=1)\n",
    "        train_losses.append(train_loss[0])\n",
    "        val_losses.append(val_loss[0])\n",
    "        \n",
    "        if (train_loss[0] > tolerance):\n",
    "            stop_counter += 1\n",
    "            if (stop_counter > 5):\n",
    "                break\n",
    "        else: stop_counter = 0\n",
    "        \n",
    "        \n",
    "    return np.array(train_losses), np.array(val_losses)"
   ]
  },
  {
   "cell_type": "code",
   "execution_count": 132,
   "metadata": {
    "datalore": {
     "hide_input_from_viewers": false,
     "hide_output_from_viewers": false,
     "node_id": "iK65BxM9UrjFWx9hpoXd1v",
     "report_properties": {
      "rowId": "e4vWTwvdLdapgnwxwIczLH"
     },
     "type": "CODE"
    }
   },
   "outputs": [],
   "source": [
    "## TODO: Train models with early stopping with the different learning rates\n",
    "all_epochs_train_losses_adapted = []\n",
    "all_epochs_val_losses_adapted = []\n",
    "\n",
    "for lr in learning_rates:\n",
    "    restart_model(model)\n",
    "    optimizer = torch.optim.SGD(model.parameters(), lr=lr)\n",
    "    train_losses, val_losses = run_training_adapted(2, num_epochs, model, train_dataloader, val_dataloader, loss_function, optimizer)\n",
    "    all_epochs_train_losses_adapted.append(train_losses)\n",
    "    all_epochs_val_losses_adapted.append(val_losses)"
   ]
  },
  {
   "cell_type": "code",
   "execution_count": 133,
   "metadata": {
    "datalore": {
     "hide_input_from_viewers": false,
     "hide_output_from_viewers": false,
     "node_id": "dq6qcJBxXcOjsCES5xBpsk",
     "report_properties": {
      "rowId": "Zlc51cTvhOpQMuxTvvz4cq"
     },
     "type": "CODE"
    }
   },
   "outputs": [
    {
     "data": {
      "image/png": "[encoded data removed]"
     },
     "metadata": {
      "image/png": {}
     },
     "output_type": "display_data"
    }
   ],
   "source": [
    "## TODO: Visualize the results. What do you see and why?\n",
    "labels = []\n",
    "for i, lr in enumerate(learning_rates):\n",
    "    plt.plot(all_epochs_train_losses_adapted[i], color=f\"C{i}\", linestyle='-')\n",
    "    plt.plot(all_epochs_val_losses_adapted[i], color=f\"C{i}\", linestyle='--')\n",
    "    train_label = f\"Train LR={lr}\"\n",
    "    val_label = f\"Validation LR={lr}\"\n",
    "    \n",
    "    if train_label not in labels:\n",
    "        plt.plot(train_losses, label=train_label, color=f\"C{i}\", linestyle='-')\n",
    "        labels.append(train_label)\n",
    "    else:\n",
    "        plt.plot(train_losses, color=f\"C{i}\", linestyle='-')\n",
    "    if val_label not in labels:\n",
    "        plt.plot(val_losses, label=val_label, color=f\"C{i}\", linestyle='--')\n",
    "        labels.append(val_label)\n",
    "    else:\n",
    "        plt.plot(val_losses, color=f\"C{i}\", linestyle='--')\n",
    "    \n",
    "legend_labels = []\n",
    "for lr in learning_rates:\n",
    "    legend_labels.append(lr)\n",
    "sns.set(style=\"white\")\n",
    "plt.title(\"Training and Validation Losses for Different LR with Stop\")\n",
    "plt.xlabel(\"Epoch\")\n",
    "plt.ylabel(\"Loss\")\n",
    "plt.legend(bbox_to_anchor=(1.5, 1))\n",
    "sns.despine()\n",
    "plt.show()"
   ]
  },
  {
   "cell_type": "markdown",
   "metadata": {
    "datalore": {
     "hide_input_from_viewers": false,
     "hide_output_from_viewers": false,
     "node_id": "5aVtqxKUQOA70Lo0fdjVhf",
     "report_properties": {
      "rowId": "bt6hCx3f39dSY607Rs0Yxn"
     },
     "type": "MD"
    }
   },
   "source": [
    "## Now lets try to explore the impact of the batch size"
   ]
  },
  {
   "cell_type": "markdown",
   "metadata": {
    "datalore": {
     "hide_input_from_viewers": false,
     "hide_output_from_viewers": false,
     "node_id": "IIg4ZOyVNYFi9J1F9R7pfX",
     "report_properties": {
      "rowId": "NmrlbxXrU3WrHMcCgTHu9I"
     },
     "type": "MD"
    }
   },
   "source": [
    "**Task:** Fix $num\\_epochs = 150$ and $lr = 0.001$ and try to change the batch size using values $[2, 4, 32, 128, 1024]$ for the batch size.\n",
    "* What impact the batch size have? Why?"
   ]
  },
  {
   "cell_type": "code",
   "execution_count": 134,
   "metadata": {
    "datalore": {
     "hide_input_from_viewers": false,
     "hide_output_from_viewers": false,
     "node_id": "8RLGUWDzRAvFkCLlA9UH2K",
     "report_properties": {
      "rowId": "JtCwecjiIJ455Cl0A1FlEJ"
     },
     "type": "CODE"
    }
   },
   "outputs": [],
   "source": [
    "num_epochs = 10\n",
    "lr = 0.001\n",
    "## TODO: Train with different batch sizes\n",
    "\n",
    "losses_train = []\n",
    "losses_val = []\n",
    "batch_sizes = [2,4,32,128,1024]\n",
    "for size in batch_sizes:\n",
    "    restart_model(model)\n",
    "    optimizer = torch.optim.SGD(model.parameters(), lr=lr)\n",
    "    train_dataloader = DataLoader(conductor_train, batch_size=size, shuffle=True)\n",
    "    val_dataloader = DataLoader(conductor_val, batch_size=size, shuffle=True)\n",
    "    train_loss, val_loss = run_training(num_epochs, model, train_dataloader, val_dataloader, loss_function, optimizer)\n",
    "    losses_train.append(train_loss)\n",
    "    losses_val.append(val_loss)\n",
    "    "
   ]
  },
  {
   "cell_type": "code",
   "execution_count": 135,
   "metadata": {
    "datalore": {
     "hide_input_from_viewers": false,
     "hide_output_from_viewers": false,
     "node_id": "AY8kzLdmnM7EM7Q1efj0pw",
     "report_properties": {
      "rowId": "tUvwvJ021PsyuIfK5OWAJ2"
     },
     "type": "CODE"
    }
   },
   "outputs": [
    {
     "data": {
      "image/png": "[encoded data removed]"
     },
     "metadata": {
      "image/png": {}
     },
     "output_type": "display_data"
    }
   ],
   "source": [
    "## TODO: Visualize the differences \n",
    "labels = []\n",
    "for i, size in enumerate(batch_sizes):\n",
    "    plt.plot(losses_train[i], color=f\"C{i}\", linestyle='-')\n",
    "    plt.plot(losses_val[i], color=f\"C{i}\", linestyle='--')\n",
    "    train_label = f\"Train Batch size={size}\"\n",
    "    val_label = f\"Validation Batch size={size}\"\n",
    "    \n",
    "    if train_label not in labels:\n",
    "        plt.plot(train_losses, label=train_label, color=f\"C{i}\", linestyle='-')\n",
    "        labels.append(train_label)\n",
    "    else:\n",
    "        plt.plot(train_losses, color=f\"C{i}\", linestyle='-')\n",
    "    if val_label not in labels:\n",
    "        plt.plot(val_losses, label=val_label, color=f\"C{i}\", linestyle='--')\n",
    "        labels.append(val_label)\n",
    "    else:\n",
    "        plt.plot(val_losses, color=f\"C{i}\", linestyle='--')\n",
    "    \n",
    "legend_labels = []\n",
    "for lr in learning_rates:\n",
    "    legend_labels.append(lr)\n",
    "sns.set(style=\"white\")\n",
    "plt.title(\"Training and Validation Losses for Different Batch Sizes\")\n",
    "plt.xlabel(\"Epoch\")\n",
    "plt.ylabel(\"Loss\")\n",
    "plt.legend(bbox_to_anchor=(1, 1))\n",
    "sns.despine()\n",
    "plt.show()"
   ]
  },
  {
   "cell_type": "code",
   "execution_count": 0,
   "metadata": {
    "datalore": {
     "hide_input_from_viewers": true,
     "hide_output_from_viewers": true,
     "node_id": "gYVVsI120WwuqY9gZGRXgt",
     "type": "CODE"
    }
   },
   "outputs": [],
   "source": []
  }
 ],
 "metadata": {
  "datalore": {
   "base_environment": "default",
   "computation_mode": "JUPYTER",
   "package_manager": "pip",
   "packages": [],
   "report_row_ids": [
    "7QmXpjauVhh7RCvb4wc1Kx",
    "fbw2aI62ukS9jHl7BO7MsI",
    "sKPpsUTIVXQ3VxhgDjfnwl",
    "DVeMnGgs3arpVZj3AbXdbM",
    "1r7Iy5aeBzwENYP2CawRa3",
    "WLIfga4UcyH1PwC3Cfx78J",
    "vagHbAIZ3Cl0pcCeBerDZ3",
    "eMfsdBa6TCLGmXTsmdjGzW",
    "cUipxg6gTb4eEI88Emx2Mc",
    "TKigAFfMgfTtBzM6b9DLJb",
    "2qajW8LX6lw6B9xLZKeah8",
    "r9IIVGViAzTFMT8NfSMDH8",
    "TiRM8oSiFfqD6fNkYN7Uzr",
    "HPJjBpI16H68vr16WUueQX",
    "SFxAjbLWN512FMn9SOcGR5",
    "cN9jt0PXr1ANHnw8NvbozN",
    "GuepJnGJA8PkogZqWKgDdM",
    "gvYmzFg0Lk0MuSKgkl9uDN",
    "RE2WIetwhw0Y4aPpxfc8U0",
    "uJTm5pRQJbHkmziwtmSBfA",
    "1eQHIdTRA3jMJ6CqTVvdGe",
    "frDt2lmhZ6cnZDFcUaD7vw",
    "4MQhwPqjO17HFFwo5NfZ8m",
    "9Wd0vNJVaOOzl2lI9cEOk8",
    "ZnWmZSfnYtYQlQI9yUdO6R",
    "h6zNDOSIdQAeq4vnAWXLsJ",
    "VRhbsDl1JhDuzlamOYnbWD",
    "HCB0pEe5AHARtwegvfLfKW",
    "ZJpHdMYiGA57DCqMfMIUMf",
    "g9vtbaXdvCbumPAYdcsgtv",
    "VZYEO0xBtSK4l27qhyGLGU",
    "Ql8bs4DotECYpqQUOz9WUB",
    "OZGp4Z6iW8Rp4OniqyevVR",
    "PBWUVSR6UByZA3ib45QzhZ",
    "6k4vZtqZEoWRn4awnHiyP0",
    "ymA22xk40ULJzH00dw6x7l",
    "Xa3QGmWqz3ltQzL4fmbLs5",
    "pdU0kSEMrbvOZk63Mf51kr",
    "TMNGiVT8MSWHibhvujQDL8",
    "KJZ0qiYTbhf3kjxHIaYul9",
    "dlov1NmnWBiJPj0gjrXH1W",
    "RhOkJST7hng5Wa9X0Z3S5f",
    "8YfMPqRNKuNBAtWE6q6Xfp",
    "6pD14Zqa8mQ0IrUV7wfSWx",
    "os3Q9ATUkWzxL7U8FxwReW",
    "rgezffjgN4MPrADkPUGFro",
    "klg6AaA1rv73shbcyOwJlc",
    "ZiYJ5Viq9EUsjYrRmaKH32",
    "Cg5fqqqoJ3aAmmvfoziUa5",
    "qGawggg4Mff94TB9Gp7wrR",
    "vMcOk9GMptXV9orqaX1xwt",
    "0tekbrOSXhqSzZ9PSXshLV",
    "60f0G6IlGDnSP2O9wJDw5H",
    "bkV2uZhKTuTaxXbXnuSNVS",
    "poid4233AdbfqmpSkrGcJY",
    "bE5oawSeEQGw4YMYaHDVlL",
    "EhWJaBkBirvOjDnUml1CkF",
    "m7QjTpP5yBAVvnO6kfGtwB",
    "Zh5honcLlL1KBNtCM0qrv6",
    "zdZJ86IQi44w83Hx3Jg9sT",
    "FVwx9a7Yx8meWo3hoOpLy1",
    "rqeJSkJKqTXqnB6sQve6WV",
    "lkAHn32usQcPQBmUgAHMBb",
    "hUsJTqOytVIhXdxaHAVehH",
    "3g0HCyuxjLM1lIZ3nlojIV",
    "ec1QN7kskofSl9oa748ujj",
    "I5ZprsD2TqCZhjWMZa7w6W",
    "xntWwAPw1oWxzBOOeCTX0Q",
    "1Cyj3bWhK5yjRq91gZ5dre",
    "WFGcY2dkplYAOgS9hXychy",
    "r4B6YCNPhYwdOuF1nAEY0E",
    "Nd0N51uBZiuTgm0hyLRzDD",
    "pSiKJi0nByED0pvGuESMOS",
    "PC9i6rIu5vx8AhN5eIrSP7",
    "K7hv0NDBhF3XHiQTfaecl1",
    "abwWUrdwRP0fBGfuAA5G9b",
    "4lSppsy2eLmJnL5dgViZUN",
    "uHdzcGhMg9KbNV3lm6hz4i",
    "gSzHcrAnWfZ2yYbFrVFpDr",
    "ujtLVkCUtZXYFAbtrR9XSE",
    "e4pg0Kg6P2gZVHa6ROxKdx",
    "OFTGSTTJn7jgwQlDnF9NUF",
    "3KgJelu6zmbtRRv5ueY51A",
    "GqHrlZfePF85JY1gvQ5hNg",
    "I2f1ON8QjYnyGeFb51HjMh",
    "5QtBO55NVtDWHNjtYagLaB",
    "jdBwDn6CL5psTqjhXUBvE8",
    "xuLdhEJ82BA6uVrgxUtOun",
    "fzB3oTLNClTlHnyWu6lXtT",
    "KAeUoASlTQZ9spzpgT7lNl",
    "acJLPpO6LHaDQH9uM39zn8",
    "5dsPhA02Q9ZLdNBhqPk0hc",
    "VYzdLUGrly5oG1graPTJQv",
    "9KfWHAxmi4GFs50q5PMcRQ",
    "DTbFbWn4J5joI2uUcVvH2o",
    "n8imWFobvz1ViwB83ySZKN",
    "e4vWTwvdLdapgnwxwIczLH",
    "Zlc51cTvhOpQMuxTvvz4cq",
    "bt6hCx3f39dSY607Rs0Yxn",
    "NmrlbxXrU3WrHMcCgTHu9I",
    "JtCwecjiIJ455Cl0A1FlEJ",
    "tUvwvJ021PsyuIfK5OWAJ2"
   ],
   "version": 3
  },
  "kernelspec": {
   "display_name": "Python 3 (ipykernel)",
   "language": "python",
   "name": "python3"
  },
  "language_info": {
   "codemirror_mode": {
    "name": "ipython",
    "version": 3
   },
   "file_extension": ".py",
   "mimetype": "text/x-python",
   "name": "python",
   "nbconvert_exporter": "python",
   "pygments_lexer": "ipython3",
   "version": "3.11.9"
  }
 },
 "nbformat": 4,
 "nbformat_minor": 4
}
